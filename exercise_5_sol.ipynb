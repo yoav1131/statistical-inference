{
 "cells": [
  {
   "cell_type": "markdown",
   "source": [
    "# Interaction Effects on Reaction Time Using ANOVA"
   ],
   "metadata": {
    "collapsed": false
   }
  },
  {
   "cell_type": "markdown",
   "source": [
    "## Question 1:\n",
    "\n",
    "In this question, we will investigate the effects of stimulation type (electrical vs. magnetic) and brain region (frontal vs. parietal) on reaction time during a cognitive task. The dataset includes reaction time measurements taken across different combinations of stimulation type and brain region. Our objective is to determine whether both stimulation type and brain region have significant main effects on reaction times, using a two-way ANOVA.\n",
    "\n",
    "Our approach to analyzing the data is structured as follows:\n",
    "\n",
    "1. **Two-Way ANOVA:** We will conduct a two-way ANOVA to examine if there are significant differences in reaction times based on the combinations of stimulation type, brain region, and their interaction effects. This will help us understand how these factors influence reaction time performance.\n",
    "\n",
    "2. **F-test:** Following the two-way ANOVA, we will use the F-test to assess whether the independent variables (stimulation type and brain region) and their interaction significantly affect reaction time. The F-test compares the explained variance from the factors and their interaction to the residual variance, with the p-value helping determine if the observed effects are statistically significant. This analysis will guide us in deciding whether to reject the null hypothesis, indicating a significant influence of the factors on reaction time.\n",
    "\n",
    "By completing this exercise, we will gain deeper understanding of how to conduct a two-way ANOVA, interpret the results of the F-test, and evaluate the p-value to make an informed decision about whether to reject the null hypothesis. This analysis will allow us to determine whether there are significant main effects of the independent variables (stimulation type and brain region) on reaction times, as well as any potential interaction effects between them. Additionally, we will learn how to assess the magnitude of these effects, providing valuable insights into the cognitive processes underlying reaction time performance in response to different stimulation conditions."
   ],
   "metadata": {
    "collapsed": false
   }
  },
  {
   "cell_type": "markdown",
   "source": [
    "## Q1 Solution:"
   ],
   "metadata": {
    "collapsed": false
   }
  },
  {
   "cell_type": "code",
   "execution_count": 34,
   "outputs": [],
   "source": [
    "import pandas as pd\n",
    "import statsmodels.api as sm\n",
    "from statsmodels.formula.api import ols"
   ],
   "metadata": {
    "collapsed": false,
    "ExecuteTime": {
     "start_time": "2024-12-02T10:42:47.906258Z",
     "end_time": "2024-12-02T10:42:47.925156Z"
    }
   }
  },
  {
   "cell_type": "markdown",
   "source": [
    "We are using pandas to create the dataset based on the problem statement."
   ],
   "metadata": {
    "collapsed": false
   }
  },
  {
   "cell_type": "code",
   "execution_count": 2,
   "outputs": [],
   "source": [
    "# Data setup\n",
    "data = {\n",
    "    'Stimulation': ['Electrical', 'Electrical', 'Electrical', 'Electrical', 'Electrical',\n",
    "                    'Electrical', 'Electrical', 'Electrical', 'Electrical', 'Electrical',\n",
    "                    'Magnetic', 'Magnetic', 'Magnetic', 'Magnetic', 'Magnetic',\n",
    "                    'Magnetic', 'Magnetic', 'Magnetic', 'Magnetic', 'Magnetic'],\n",
    "    'Region': ['Frontal', 'Frontal', 'Frontal', 'Frontal', 'Frontal',\n",
    "               'Parietal', 'Parietal', 'Parietal', 'Parietal', 'Parietal',\n",
    "               'Frontal', 'Frontal', 'Frontal', 'Frontal', 'Frontal',\n",
    "               'Parietal', 'Parietal', 'Parietal', 'Parietal', 'Parietal'],\n",
    "    'Reaction_Time': [250, 260, 245, 255, 250, 270, 280, 275, 290, 285,\n",
    "                      240, 235, 245, 250, 240, 265, 270, 260, 275, 280]\n",
    "}\n",
    "\n",
    "# Create a DataFrame\n",
    "df = pd.DataFrame(data)"
   ],
   "metadata": {
    "collapsed": false,
    "ExecuteTime": {
     "start_time": "2024-12-01T14:47:41.547685Z",
     "end_time": "2024-12-01T14:47:41.556699Z"
    }
   }
  },
  {
   "cell_type": "code",
   "execution_count": 3,
   "outputs": [
    {
     "data": {
      "text/plain": "   Stimulation    Region  Reaction_Time\n0   Electrical   Frontal            250\n1   Electrical   Frontal            260\n2   Electrical   Frontal            245\n3   Electrical   Frontal            255\n4   Electrical   Frontal            250\n5   Electrical  Parietal            270\n6   Electrical  Parietal            280\n7   Electrical  Parietal            275\n8   Electrical  Parietal            290\n9   Electrical  Parietal            285\n10    Magnetic   Frontal            240\n11    Magnetic   Frontal            235\n12    Magnetic   Frontal            245\n13    Magnetic   Frontal            250\n14    Magnetic   Frontal            240\n15    Magnetic  Parietal            265\n16    Magnetic  Parietal            270\n17    Magnetic  Parietal            260\n18    Magnetic  Parietal            275\n19    Magnetic  Parietal            280",
      "text/html": "<div>\n<style scoped>\n    .dataframe tbody tr th:only-of-type {\n        vertical-align: middle;\n    }\n\n    .dataframe tbody tr th {\n        vertical-align: top;\n    }\n\n    .dataframe thead th {\n        text-align: right;\n    }\n</style>\n<table border=\"1\" class=\"dataframe\">\n  <thead>\n    <tr style=\"text-align: right;\">\n      <th></th>\n      <th>Stimulation</th>\n      <th>Region</th>\n      <th>Reaction_Time</th>\n    </tr>\n  </thead>\n  <tbody>\n    <tr>\n      <th>0</th>\n      <td>Electrical</td>\n      <td>Frontal</td>\n      <td>250</td>\n    </tr>\n    <tr>\n      <th>1</th>\n      <td>Electrical</td>\n      <td>Frontal</td>\n      <td>260</td>\n    </tr>\n    <tr>\n      <th>2</th>\n      <td>Electrical</td>\n      <td>Frontal</td>\n      <td>245</td>\n    </tr>\n    <tr>\n      <th>3</th>\n      <td>Electrical</td>\n      <td>Frontal</td>\n      <td>255</td>\n    </tr>\n    <tr>\n      <th>4</th>\n      <td>Electrical</td>\n      <td>Frontal</td>\n      <td>250</td>\n    </tr>\n    <tr>\n      <th>5</th>\n      <td>Electrical</td>\n      <td>Parietal</td>\n      <td>270</td>\n    </tr>\n    <tr>\n      <th>6</th>\n      <td>Electrical</td>\n      <td>Parietal</td>\n      <td>280</td>\n    </tr>\n    <tr>\n      <th>7</th>\n      <td>Electrical</td>\n      <td>Parietal</td>\n      <td>275</td>\n    </tr>\n    <tr>\n      <th>8</th>\n      <td>Electrical</td>\n      <td>Parietal</td>\n      <td>290</td>\n    </tr>\n    <tr>\n      <th>9</th>\n      <td>Electrical</td>\n      <td>Parietal</td>\n      <td>285</td>\n    </tr>\n    <tr>\n      <th>10</th>\n      <td>Magnetic</td>\n      <td>Frontal</td>\n      <td>240</td>\n    </tr>\n    <tr>\n      <th>11</th>\n      <td>Magnetic</td>\n      <td>Frontal</td>\n      <td>235</td>\n    </tr>\n    <tr>\n      <th>12</th>\n      <td>Magnetic</td>\n      <td>Frontal</td>\n      <td>245</td>\n    </tr>\n    <tr>\n      <th>13</th>\n      <td>Magnetic</td>\n      <td>Frontal</td>\n      <td>250</td>\n    </tr>\n    <tr>\n      <th>14</th>\n      <td>Magnetic</td>\n      <td>Frontal</td>\n      <td>240</td>\n    </tr>\n    <tr>\n      <th>15</th>\n      <td>Magnetic</td>\n      <td>Parietal</td>\n      <td>265</td>\n    </tr>\n    <tr>\n      <th>16</th>\n      <td>Magnetic</td>\n      <td>Parietal</td>\n      <td>270</td>\n    </tr>\n    <tr>\n      <th>17</th>\n      <td>Magnetic</td>\n      <td>Parietal</td>\n      <td>260</td>\n    </tr>\n    <tr>\n      <th>18</th>\n      <td>Magnetic</td>\n      <td>Parietal</td>\n      <td>275</td>\n    </tr>\n    <tr>\n      <th>19</th>\n      <td>Magnetic</td>\n      <td>Parietal</td>\n      <td>280</td>\n    </tr>\n  </tbody>\n</table>\n</div>"
     },
     "execution_count": 3,
     "metadata": {},
     "output_type": "execute_result"
    }
   ],
   "source": [
    "df"
   ],
   "metadata": {
    "collapsed": false,
    "ExecuteTime": {
     "start_time": "2024-12-01T14:47:41.567756Z",
     "end_time": "2024-12-01T14:47:41.591133Z"
    }
   }
  },
  {
   "cell_type": "markdown",
   "source": [
    "## Perform two way ANOVA"
   ],
   "metadata": {
    "collapsed": false
   }
  },
  {
   "cell_type": "code",
   "execution_count": 5,
   "outputs": [],
   "source": [
    "# Fit the Two-Way ANOVA model\n",
    "model = ols('Reaction_Time ~ C(Stimulation) * C(Region)', data=df).fit()\n",
    "# Perform the ANOVA\n",
    "anova_table = sm.stats.anova_lm(model, typ=2)"
   ],
   "metadata": {
    "collapsed": false,
    "ExecuteTime": {
     "start_time": "2024-12-01T14:47:51.578806Z",
     "end_time": "2024-12-01T14:47:51.770480Z"
    }
   }
  },
  {
   "cell_type": "markdown",
   "source": [
    "Display the ANOVA table"
   ],
   "metadata": {
    "collapsed": false
   }
  },
  {
   "cell_type": "code",
   "execution_count": 6,
   "outputs": [
    {
     "name": "stdout",
     "output_type": "stream",
     "text": [
      "ANOVA Table:\n",
      "                                sum_sq    df             F        PR(>F)\n",
      "C(Stimulation)            5.000000e+02   1.0  1.052632e+01  5.080221e-03\n",
      "C(Region)                 3.920000e+03   1.0  8.252632e+01  1.026949e-07\n",
      "C(Stimulation):C(Region)  1.236934e-26   1.0  2.604071e-28  1.000000e+00\n",
      "Residual                  7.600000e+02  16.0           NaN           NaN\n"
     ]
    }
   ],
   "source": [
    "# Display the ANOVA table\n",
    "print(\"ANOVA Table:\")\n",
    "print(anova_table)"
   ],
   "metadata": {
    "collapsed": false,
    "ExecuteTime": {
     "start_time": "2024-12-01T14:47:52.723411Z",
     "end_time": "2024-12-01T14:47:52.739453Z"
    }
   }
  },
  {
   "cell_type": "markdown",
   "source": [
    "### ANOVA table explanation\n",
    "\n",
    "1. sum_sq: Sum of Squares (SS) for each group (Between Groups), their interactions, and residuals (Within Groups).\n",
    "2. df: Degrees of Freedom for each source $df_{simulation} = \\alpha - 1 = 1$ (in this example,  $\\alpha=2), $df_{region} = \\beta - 1$ (in this example, $\\beta = 2$), $df_{interaction} = (\\alpha -1)(\\beta - 1) = 1 \\times 1 = 1$, $df_{error} = N - \\alpha \\beta = 20 - 2 \\times 2 = 16$ (in this example N=20).\n",
    "3. F: F-statistic for testing group differences.\n",
    "4. PR(>F): p-value for the F-statistic.\n",
    "\n",
    "You can find more details in the following link: [Statsmodels Example Formulas Documentation](https://www.statsmodels.org/dev/example_formulas.html)\n"
   ],
   "metadata": {
    "collapsed": false
   }
  },
  {
   "cell_type": "markdown",
   "source": [
    "## Interpret the results"
   ],
   "metadata": {
    "collapsed": false
   }
  },
  {
   "cell_type": "code",
   "execution_count": 10,
   "outputs": [
    {
     "name": "stdout",
     "output_type": "stream",
     "text": [
      "\n",
      "Results:\n",
      "F-statistic (simulation): 10.53, F-statistic (region): 82.53, F-statistic (interaction): 0.00\n",
      "p-value (simulation): 0.00508022, p-value (region): 0.00000010, p-value (interaction): 1.00000000\n"
     ]
    }
   ],
   "source": [
    "f_stat_sim = anova_table[\"F\"].iloc[0]\n",
    "p_value_sim = anova_table[\"PR(>F)\"].iloc[0]\n",
    "f_stat_reg = anova_table['F'].iloc[1]\n",
    "p_value_reg = anova_table['PR(>F)'].iloc[1]\n",
    "f_stat_int = anova_table['F'].iloc[2]\n",
    "p_value_int = anova_table['PR(>F)'].iloc[2]\n",
    "\n",
    "print(\"\\nResults:\")\n",
    "print(f\"F-statistic (simulation): {f_stat_sim:.2f}, F-statistic (region): {f_stat_reg:.2f}, F-statistic (interaction): {f_stat_int:.2f}\")\n",
    "print(f\"p-value (simulation): {p_value_sim:.8f}, p-value (region): {p_value_reg:.8f}, p-value (interaction): {p_value_int:.8f}\")"
   ],
   "metadata": {
    "collapsed": false,
    "ExecuteTime": {
     "start_time": "2024-12-01T15:00:25.282011Z",
     "end_time": "2024-12-01T15:00:25.306844Z"
    }
   }
  },
  {
   "cell_type": "markdown",
   "source": [
    "The F-statistic shows the ratio of variance explained by the group differences to the unexplained variance, while the p-value indicates if the group differences are statistically significant (p < 0.01).\n",
    "\n",
    "* **Main Effects:** Both Stimulation Type and Brain Region have a significant main effect on reaction times at the 1% significance level\n",
    "* **Interaction Effect:** The interaction between Stimulation Type and Brain Region is not significant at the 1% significance level\n",
    "\n",
    "In conclusion, both Stimulation Type and Brain Region independently affect reaction times, but their interaction does not have a significant impact at the 1% significance level."
   ],
   "metadata": {
    "collapsed": false
   }
  },
  {
   "cell_type": "markdown",
   "source": [
    "# Question 2:\n",
    "\n",
    "In this exercise, we will investigate the effects of stimulation type (electrical vs. magnetic), brain region (frontal vs. parietal VS. occipital), and cognitive load (low vs. high) on reaction time during a cognitive task. The dataset includes reaction time measurements taken across different combinations of stimulation type, brain region, and cognitive load. Our objective is to determine whether stimulation type, brain region and cognitive load have significant main effects on reaction times, using a factorial ANOVA.\n",
    "\n",
    "Our approach to analyzing the data is structured as follows:\n",
    "\n",
    "1. **Factorial ANOVA:** We will conduct a factorial ANOVA to examine if there are significant differences in reaction times based on the combinations of stimulation type, brain region, cognitive load, and their interaction effects. This will help us understand how these factors influence reaction time performance.\n",
    "\n",
    "2. **F-test:** Following the factorial ANOVA, we will use the F-test to assess whether the independent variables (stimulation type and brain region) and their interaction significantly affect reaction time. The F-test compares the explained variance from the factors and their interaction to the residual variance, with the p-value helping determine if the observed effects are statistically significant. This analysis will guide us in deciding whether to reject the null hypothesis, indicating a significant influence of the factors on reaction time.\n",
    "\n",
    "By completing this exercise, we will gain deeper understanding of how to conduct a factorial ANOVA, interpret the results of the F-test, and evaluate the p-value to make an informed decision about whether to reject the null hypothesis. This analysis will allow us to determine whether there are significant main effects of the independent variables on reaction times, as well as any potential interaction effects between them. Additionally, we will learn how to assess the magnitude of these effects, providing valuable insights into the cognitive processes underlying reaction time performance in response to different stimulation conditions."
   ],
   "metadata": {
    "collapsed": false
   }
  },
  {
   "cell_type": "markdown",
   "source": [
    "## Q2 Solution:"
   ],
   "metadata": {
    "collapsed": false
   }
  },
  {
   "cell_type": "code",
   "execution_count": 138,
   "outputs": [],
   "source": [
    "# Original compact data\n",
    "data = [\n",
    "    (\"Electrical\", \"Frontal\", \"Low\", [250, 255, 245, 250, 255]),\n",
    "    (\"Electrical\", \"Frontal\", \"High\", [270, 265, 275, 280, 260]),\n",
    "    (\"Electrical\", \"Parietal\", \"Low\", [270, 275, 265, 285, 280]),\n",
    "    (\"Electrical\", \"Parietal\", \"High\", [290, 280, 275, 300, 285]),\n",
    "    (\"Electrical\", \"Occipital\", \"Low\", [246, 235, 245, 230, 240]),\n",
    "    (\"Electrical\", \"Parietal\", \"High\", [260, 255, 250, 270, 265]),\n",
    "    (\"Magnetic\", \"Frontal\", \"Low\", [243, 235, 245, 250, 240]),\n",
    "    (\"Magnetic\", \"Frontal\", \"High\", [260, 255, 270, 265, 255]),\n",
    "    (\"Magnetic\", \"Parietal\", \"Low\", [255, 260, 265, 270, 260]),\n",
    "    (\"Magnetic\", \"Parietal\", \"High\", [276, 270, 265, 280, 275]),\n",
    "    (\"Magnetic\", \"Occipital\", \"Low\", [224, 215, 225, 210, 220]),\n",
    "    (\"Magnetic\", \"Occipital\", \"High\", [242, 235, 250, 245, 240]),\n",
    "]\n",
    "\n",
    "\n",
    "# Expand the data programmatically\n",
    "expanded_data = []\n",
    "for sim_type, brain_region, cog_load, reaction_times in data:\n",
    "    for rt in reaction_times:\n",
    "        expanded_data.append((sim_type, brain_region, cog_load, rt))\n",
    "\n",
    "# Create a DataFrame\n",
    "columns = [\"Stimulation_Type\", \"Brain_Region\", \"Cognitive_Load\", \"Reaction_Time\"]\n",
    "df = pd.DataFrame(expanded_data, columns=columns)\n"
   ],
   "metadata": {
    "collapsed": false,
    "ExecuteTime": {
     "start_time": "2024-12-02T12:17:23.521208Z",
     "end_time": "2024-12-02T12:17:23.540895Z"
    }
   }
  },
  {
   "cell_type": "markdown",
   "source": [
    "## Perform factorial ANOVA"
   ],
   "metadata": {
    "collapsed": false
   }
  },
  {
   "cell_type": "code",
   "execution_count": 139,
   "outputs": [],
   "source": [
    "# Fit the ANOVA model\n",
    "model = ols('Reaction_Time ~ C(Stimulation_Type) * C(Brain_Region) * C(Cognitive_Load)', data=df).fit()\n",
    "\n",
    "# Perform the ANOVA\n",
    "anova_results = sm.stats.anova_lm(model, typ=2)"
   ],
   "metadata": {
    "collapsed": false,
    "ExecuteTime": {
     "start_time": "2024-12-02T12:17:30.687096Z",
     "end_time": "2024-12-02T12:17:30.739717Z"
    }
   }
  },
  {
   "cell_type": "markdown",
   "source": [
    "Display the ANOVA table"
   ],
   "metadata": {
    "collapsed": false
   }
  },
  {
   "cell_type": "code",
   "execution_count": 140,
   "outputs": [
    {
     "name": "stdout",
     "output_type": "stream",
     "text": [
      "ANOVA Table:\n",
      "                                                         sum_sq    df  \\\n",
      "C(Stimulation_Type)                                 1530.305246   1.0   \n",
      "C(Brain_Region)                                     6120.408333   2.0   \n",
      "C(Cognitive_Load)                                   2546.055246   1.0   \n",
      "C(Stimulation_Type):C(Brain_Region)                  563.167629   2.0   \n",
      "C(Stimulation_Type):C(Cognitive_Load)                142.424067   1.0   \n",
      "C(Brain_Region):C(Cognitive_Load)                    827.916720   2.0   \n",
      "C(Stimulation_Type):C(Brain_Region):C(Cognitive...   127.906311   2.0   \n",
      "Residual                                            3906.800000  49.0   \n",
      "\n",
      "                                                            F        PR(>F)  \n",
      "C(Stimulation_Type)                                 19.193447  6.214902e-05  \n",
      "C(Brain_Region)                                     38.381797  9.347769e-11  \n",
      "C(Cognitive_Load)                                   31.933221  8.035791e-07  \n",
      "C(Stimulation_Type):C(Brain_Region)                  3.531690  3.691149e-02  \n",
      "C(Stimulation_Type):C(Cognitive_Load)                1.786316  1.875488e-01  \n",
      "C(Brain_Region):C(Cognitive_Load)                    5.191963  9.013965e-03  \n",
      "C(Stimulation_Type):C(Brain_Region):C(Cognitive...   0.802115  4.541786e-01  \n",
      "Residual                                                  NaN           NaN  \n"
     ]
    }
   ],
   "source": [
    "# Display the ANOVA table\n",
    "print(\"ANOVA Table:\")\n",
    "print(anova_results)"
   ],
   "metadata": {
    "collapsed": false,
    "ExecuteTime": {
     "start_time": "2024-12-02T12:17:37.003119Z",
     "end_time": "2024-12-02T12:17:37.010232Z"
    }
   }
  },
  {
   "cell_type": "markdown",
   "source": [
    "## Interpret the results\n",
    "\n",
    "1. Main effects:\n",
    "    * Stimulation type `(C(Stimulation_Type))`: F = 19.19, p = 6.21e-05 (less than 0.05): This is statistically significant. This means the type of stimulation (whether electrical or magnetic) has a significant effect on the dependent variable (reaction time)\n",
    "    * Brain Region `(C(Brain_Region))`: F = 38.38, p = 9.35e-11 (much less than 0.05): This is also statistically significant. The region of the brain (Frontal, Parietal, or Occipital) significantly affects the reaction times\n",
    "    * Cognitive Load `(C(Cognitive_Load))`: F = 31.93, p = 8.04e-07 (less than 0.05): This is statistically significant. Cognitive load (Low vs High) has a significant impact on the reaction times\n",
    "\n",
    "2. Interaction effects:\n",
    "    * Stimulation Type × Brain Region `(C(Stimulation_Type):C(Brain_Region))`: F = 3.53, p = 0.0369 (less than 0.05): This is statistically significant. There is a significant interaction between stimulation type and brain region. This suggests that the effect of the simulation type (Electrical vs Magnetic) on reaction times is influenced by the brain region\n",
    "    * Stimulation Type × Cognitive Load `(C(Stimulation_Type):C(Cognitive_Load))`: F = 1.79, p = 0.1875 (greater than 0.05): This is not statistically significant. There is no significant interaction between stimulation type and cognitive load, meaning that the effect of stimulation type on reaction times does not depend on cognitive load\n",
    "    * Brain Region × Cognitive Load `(C(Brain_Region):C(Cognitive_Load))`: F = 5.19, p = 0.0090 (less than 0.05): This is statistically significant. The interaction between brain region and cognitive load has a significant effect on reaction times. This suggests that the brain region's effect on reaction times depends on the cognitive load\n",
    "    * Stimulation Type × Brain Region × Cognitive Load `(C(Stimulation_Type):C(Brain_Region):C(Cognitive_Load))`: F = 0.80, p = 0.4542 (greater than 0.05): This is not statistically significant. There is no significant three-way interaction between stimulation type, brain region, and cognitive load\n",
    "\n",
    "3. Residuals:\n",
    "    * The residual sum of squares is 3906.80, with 49 degrees of freedom, which reflects the unexplained variability in the model\n",
    "\n",
    "\n",
    "### Summary of findings\n",
    "\n",
    "The analysis revealed that **stimulation type**, **brain region**, and **cognitive load** all significantly affect reaction times. Additionally, there are significant interactions between **stimulation type** and **brain region**, and between **brain region and cognitive load**. However, no significant interaction was found between **stimulation type and cognitive load**, nor was there a significant three-way interaction involving stimulation type, brain region, and cognitive load. These findings suggest that reaction times are influenced by the type of stimulation, the brain region, and the cognitive load, with some interactions depending on specific factors.\n"
   ],
   "metadata": {
    "collapsed": false
   }
  }
 ],
 "metadata": {
  "kernelspec": {
   "display_name": "Python 3",
   "language": "python",
   "name": "python3"
  },
  "language_info": {
   "codemirror_mode": {
    "name": "ipython",
    "version": 2
   },
   "file_extension": ".py",
   "mimetype": "text/x-python",
   "name": "python",
   "nbconvert_exporter": "python",
   "pygments_lexer": "ipython2",
   "version": "2.7.6"
  }
 },
 "nbformat": 4,
 "nbformat_minor": 0
}
