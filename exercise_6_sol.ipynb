{
 "cells": [
  {
   "cell_type": "markdown",
   "source": [
    "# Repeated Measures ANOVA and Hierarchical Models"
   ],
   "metadata": {
    "collapsed": false
   }
  },
  {
   "cell_type": "markdown",
   "source": [
    "## Question 1:\n",
    "\n",
    "In this exercise, we will investigate how reaction times vary across three experimental conditions: **Baseline**, **Task**, and **Post-Task**. The dataset includes reaction times (in milliseconds) measured for 12 participants under each condition. The goal of the exercise is to determine if there are significant differences in reaction times across these three conditions.\n",
    "\n",
    "Our approach to analyzing the data is structured as follows:\n",
    "\n",
    "1. **Repeated Measures ANOVA:** We will conduct a Repeated Measures ANOVA to examine whether there are significant differences in reaction times between the conditions. We will calculate the F-statistic, degrees of freedom, and the p-value to evaluate this.\n",
    "\n",
    "2. **Sphericity Assumption:** using Mauchly's test of sphericity. If the assumption is violated, we will apply the Greenhouse-Geisser correction to adjust the degrees of freedom and recalculate the p-value.\n",
    "\n",
    "By completing this exercise, we will gain deeper understanding of how to conduct a repeated measurements ANOVA, interpret the results, and evaluate the p-value to make an informed decision about whether to reject the null hypothesis. The interpretation will focus on understanding how reaction times change from Baseline to Task and Post-Task, shedding light on the effects of the experimental conditions."
   ],
   "metadata": {
    "collapsed": false
   }
  },
  {
   "cell_type": "markdown",
   "source": [
    "## Q1 Solution:"
   ],
   "metadata": {
    "collapsed": false
   }
  },
  {
   "cell_type": "code",
   "execution_count": 72,
   "outputs": [],
   "source": [
    "import pandas as pd\n",
    "import matplotlib.pyplot as plt\n",
    "import numpy as np\n",
    "import seaborn as sns\n",
    "import pingouin as pg\n",
    "import statsmodels.api as sm\n",
    "from statsmodels.formula.api import mixedlm"
   ],
   "metadata": {
    "collapsed": false,
    "ExecuteTime": {
     "start_time": "2024-12-18T13:00:13.066389Z",
     "end_time": "2024-12-18T13:00:14.493517Z"
    }
   }
  },
  {
   "cell_type": "markdown",
   "source": [
    "We are using pandas to create the dataset based on the problem statement."
   ],
   "metadata": {
    "collapsed": false
   }
  },
  {
   "cell_type": "code",
   "execution_count": 2,
   "outputs": [],
   "source": [
    "# Create a dataframe for reaction times under three conditions\n",
    "data = {\n",
    "    'Participant': [1, 2, 3, 4, 5, 6, 7, 8, 9, 10, 11, 12],\n",
    "    'Baseline': [250, 260, 270, 240, 265, 275, 255, 245, 270, 260, 250, 265],\n",
    "    'Task': [240, 245, 255, 235, 250, 260, 245, 235, 260, 250, 240, 255],\n",
    "    'Post-Task': [230, 235, 245, 225, 240, 250, 235, 225, 250, 240, 230, 245]\n",
    "}\n",
    "\n",
    "df = pd.DataFrame(data)"
   ],
   "metadata": {
    "collapsed": false,
    "ExecuteTime": {
     "start_time": "2024-12-18T11:17:17.407694Z",
     "end_time": "2024-12-18T11:17:17.417013Z"
    }
   }
  },
  {
   "cell_type": "code",
   "execution_count": 3,
   "outputs": [
    {
     "data": {
      "text/plain": "    Participant  Baseline  Task  Post-Task\n0             1       250   240        230\n1             2       260   245        235\n2             3       270   255        245\n3             4       240   235        225\n4             5       265   250        240\n5             6       275   260        250\n6             7       255   245        235\n7             8       245   235        225\n8             9       270   260        250\n9            10       260   250        240\n10           11       250   240        230\n11           12       265   255        245",
      "text/html": "<div>\n<style scoped>\n    .dataframe tbody tr th:only-of-type {\n        vertical-align: middle;\n    }\n\n    .dataframe tbody tr th {\n        vertical-align: top;\n    }\n\n    .dataframe thead th {\n        text-align: right;\n    }\n</style>\n<table border=\"1\" class=\"dataframe\">\n  <thead>\n    <tr style=\"text-align: right;\">\n      <th></th>\n      <th>Participant</th>\n      <th>Baseline</th>\n      <th>Task</th>\n      <th>Post-Task</th>\n    </tr>\n  </thead>\n  <tbody>\n    <tr>\n      <th>0</th>\n      <td>1</td>\n      <td>250</td>\n      <td>240</td>\n      <td>230</td>\n    </tr>\n    <tr>\n      <th>1</th>\n      <td>2</td>\n      <td>260</td>\n      <td>245</td>\n      <td>235</td>\n    </tr>\n    <tr>\n      <th>2</th>\n      <td>3</td>\n      <td>270</td>\n      <td>255</td>\n      <td>245</td>\n    </tr>\n    <tr>\n      <th>3</th>\n      <td>4</td>\n      <td>240</td>\n      <td>235</td>\n      <td>225</td>\n    </tr>\n    <tr>\n      <th>4</th>\n      <td>5</td>\n      <td>265</td>\n      <td>250</td>\n      <td>240</td>\n    </tr>\n    <tr>\n      <th>5</th>\n      <td>6</td>\n      <td>275</td>\n      <td>260</td>\n      <td>250</td>\n    </tr>\n    <tr>\n      <th>6</th>\n      <td>7</td>\n      <td>255</td>\n      <td>245</td>\n      <td>235</td>\n    </tr>\n    <tr>\n      <th>7</th>\n      <td>8</td>\n      <td>245</td>\n      <td>235</td>\n      <td>225</td>\n    </tr>\n    <tr>\n      <th>8</th>\n      <td>9</td>\n      <td>270</td>\n      <td>260</td>\n      <td>250</td>\n    </tr>\n    <tr>\n      <th>9</th>\n      <td>10</td>\n      <td>260</td>\n      <td>250</td>\n      <td>240</td>\n    </tr>\n    <tr>\n      <th>10</th>\n      <td>11</td>\n      <td>250</td>\n      <td>240</td>\n      <td>230</td>\n    </tr>\n    <tr>\n      <th>11</th>\n      <td>12</td>\n      <td>265</td>\n      <td>255</td>\n      <td>245</td>\n    </tr>\n  </tbody>\n</table>\n</div>"
     },
     "execution_count": 3,
     "metadata": {},
     "output_type": "execute_result"
    }
   ],
   "source": [
    "df"
   ],
   "metadata": {
    "collapsed": false,
    "ExecuteTime": {
     "start_time": "2024-12-18T11:17:17.424397Z",
     "end_time": "2024-12-18T11:17:17.463761Z"
    }
   }
  },
  {
   "cell_type": "markdown",
   "source": [
    "## Convert the dataframe to a long format for Pingouin"
   ],
   "metadata": {
    "collapsed": false
   }
  },
  {
   "cell_type": "code",
   "execution_count": 4,
   "outputs": [],
   "source": [
    "df_long = df.melt(id_vars=['Participant'],\n",
    "                  value_vars=['Baseline', 'Task', 'Post-Task'],\n",
    "                  var_name='Condition',\n",
    "                  value_name='Reaction_Time')\n"
   ],
   "metadata": {
    "collapsed": false,
    "ExecuteTime": {
     "start_time": "2024-12-18T11:17:18.720055Z",
     "end_time": "2024-12-18T11:17:18.747433Z"
    }
   }
  },
  {
   "cell_type": "code",
   "execution_count": 34,
   "outputs": [
    {
     "data": {
      "text/plain": "    Participant  Condition  Reaction_Time\n0             1   Baseline            250\n1             2   Baseline            260\n2             3   Baseline            270\n3             4   Baseline            240\n4             5   Baseline            265\n5             6   Baseline            275\n6             7   Baseline            255\n7             8   Baseline            245\n8             9   Baseline            270\n9            10   Baseline            260\n10           11   Baseline            250\n11           12   Baseline            265\n12            1       Task            240\n13            2       Task            245\n14            3       Task            255\n15            4       Task            235\n16            5       Task            250\n17            6       Task            260\n18            7       Task            245\n19            8       Task            235\n20            9       Task            260\n21           10       Task            250\n22           11       Task            240\n23           12       Task            255\n24            1  Post-Task            230\n25            2  Post-Task            235\n26            3  Post-Task            245\n27            4  Post-Task            225\n28            5  Post-Task            240\n29            6  Post-Task            250\n30            7  Post-Task            235\n31            8  Post-Task            225\n32            9  Post-Task            250\n33           10  Post-Task            240\n34           11  Post-Task            230\n35           12  Post-Task            245",
      "text/html": "<div>\n<style scoped>\n    .dataframe tbody tr th:only-of-type {\n        vertical-align: middle;\n    }\n\n    .dataframe tbody tr th {\n        vertical-align: top;\n    }\n\n    .dataframe thead th {\n        text-align: right;\n    }\n</style>\n<table border=\"1\" class=\"dataframe\">\n  <thead>\n    <tr style=\"text-align: right;\">\n      <th></th>\n      <th>Participant</th>\n      <th>Condition</th>\n      <th>Reaction_Time</th>\n    </tr>\n  </thead>\n  <tbody>\n    <tr>\n      <th>0</th>\n      <td>1</td>\n      <td>Baseline</td>\n      <td>250</td>\n    </tr>\n    <tr>\n      <th>1</th>\n      <td>2</td>\n      <td>Baseline</td>\n      <td>260</td>\n    </tr>\n    <tr>\n      <th>2</th>\n      <td>3</td>\n      <td>Baseline</td>\n      <td>270</td>\n    </tr>\n    <tr>\n      <th>3</th>\n      <td>4</td>\n      <td>Baseline</td>\n      <td>240</td>\n    </tr>\n    <tr>\n      <th>4</th>\n      <td>5</td>\n      <td>Baseline</td>\n      <td>265</td>\n    </tr>\n    <tr>\n      <th>5</th>\n      <td>6</td>\n      <td>Baseline</td>\n      <td>275</td>\n    </tr>\n    <tr>\n      <th>6</th>\n      <td>7</td>\n      <td>Baseline</td>\n      <td>255</td>\n    </tr>\n    <tr>\n      <th>7</th>\n      <td>8</td>\n      <td>Baseline</td>\n      <td>245</td>\n    </tr>\n    <tr>\n      <th>8</th>\n      <td>9</td>\n      <td>Baseline</td>\n      <td>270</td>\n    </tr>\n    <tr>\n      <th>9</th>\n      <td>10</td>\n      <td>Baseline</td>\n      <td>260</td>\n    </tr>\n    <tr>\n      <th>10</th>\n      <td>11</td>\n      <td>Baseline</td>\n      <td>250</td>\n    </tr>\n    <tr>\n      <th>11</th>\n      <td>12</td>\n      <td>Baseline</td>\n      <td>265</td>\n    </tr>\n    <tr>\n      <th>12</th>\n      <td>1</td>\n      <td>Task</td>\n      <td>240</td>\n    </tr>\n    <tr>\n      <th>13</th>\n      <td>2</td>\n      <td>Task</td>\n      <td>245</td>\n    </tr>\n    <tr>\n      <th>14</th>\n      <td>3</td>\n      <td>Task</td>\n      <td>255</td>\n    </tr>\n    <tr>\n      <th>15</th>\n      <td>4</td>\n      <td>Task</td>\n      <td>235</td>\n    </tr>\n    <tr>\n      <th>16</th>\n      <td>5</td>\n      <td>Task</td>\n      <td>250</td>\n    </tr>\n    <tr>\n      <th>17</th>\n      <td>6</td>\n      <td>Task</td>\n      <td>260</td>\n    </tr>\n    <tr>\n      <th>18</th>\n      <td>7</td>\n      <td>Task</td>\n      <td>245</td>\n    </tr>\n    <tr>\n      <th>19</th>\n      <td>8</td>\n      <td>Task</td>\n      <td>235</td>\n    </tr>\n    <tr>\n      <th>20</th>\n      <td>9</td>\n      <td>Task</td>\n      <td>260</td>\n    </tr>\n    <tr>\n      <th>21</th>\n      <td>10</td>\n      <td>Task</td>\n      <td>250</td>\n    </tr>\n    <tr>\n      <th>22</th>\n      <td>11</td>\n      <td>Task</td>\n      <td>240</td>\n    </tr>\n    <tr>\n      <th>23</th>\n      <td>12</td>\n      <td>Task</td>\n      <td>255</td>\n    </tr>\n    <tr>\n      <th>24</th>\n      <td>1</td>\n      <td>Post-Task</td>\n      <td>230</td>\n    </tr>\n    <tr>\n      <th>25</th>\n      <td>2</td>\n      <td>Post-Task</td>\n      <td>235</td>\n    </tr>\n    <tr>\n      <th>26</th>\n      <td>3</td>\n      <td>Post-Task</td>\n      <td>245</td>\n    </tr>\n    <tr>\n      <th>27</th>\n      <td>4</td>\n      <td>Post-Task</td>\n      <td>225</td>\n    </tr>\n    <tr>\n      <th>28</th>\n      <td>5</td>\n      <td>Post-Task</td>\n      <td>240</td>\n    </tr>\n    <tr>\n      <th>29</th>\n      <td>6</td>\n      <td>Post-Task</td>\n      <td>250</td>\n    </tr>\n    <tr>\n      <th>30</th>\n      <td>7</td>\n      <td>Post-Task</td>\n      <td>235</td>\n    </tr>\n    <tr>\n      <th>31</th>\n      <td>8</td>\n      <td>Post-Task</td>\n      <td>225</td>\n    </tr>\n    <tr>\n      <th>32</th>\n      <td>9</td>\n      <td>Post-Task</td>\n      <td>250</td>\n    </tr>\n    <tr>\n      <th>33</th>\n      <td>10</td>\n      <td>Post-Task</td>\n      <td>240</td>\n    </tr>\n    <tr>\n      <th>34</th>\n      <td>11</td>\n      <td>Post-Task</td>\n      <td>230</td>\n    </tr>\n    <tr>\n      <th>35</th>\n      <td>12</td>\n      <td>Post-Task</td>\n      <td>245</td>\n    </tr>\n  </tbody>\n</table>\n</div>"
     },
     "execution_count": 34,
     "metadata": {},
     "output_type": "execute_result"
    }
   ],
   "source": [
    "df_long"
   ],
   "metadata": {
    "collapsed": false,
    "ExecuteTime": {
     "start_time": "2024-12-18T11:26:28.462404Z",
     "end_time": "2024-12-18T11:26:28.483028Z"
    }
   }
  },
  {
   "cell_type": "markdown",
   "source": [
    "## Perform Repeated Measures ANOVA"
   ],
   "metadata": {
    "collapsed": false
   }
  },
  {
   "cell_type": "code",
   "execution_count": 5,
   "outputs": [],
   "source": [
    "anova_results = pg.rm_anova(data=df_long,\n",
    "                            dv='Reaction_Time',  # Dependent variable\n",
    "                            within='Condition',  # Within-subject variable\n",
    "                            subject='Participant',  # Subject identifier\n",
    "                            detailed=True)"
   ],
   "metadata": {
    "collapsed": false,
    "ExecuteTime": {
     "start_time": "2024-12-18T11:17:27.200186Z",
     "end_time": "2024-12-18T11:17:27.336677Z"
    }
   }
  },
  {
   "cell_type": "markdown",
   "source": [
    "Display the ANOVA table"
   ],
   "metadata": {
    "collapsed": false
   }
  },
  {
   "cell_type": "code",
   "execution_count": 6,
   "outputs": [
    {
     "name": "stdout",
     "output_type": "stream",
     "text": [
      "ANOVA Table:\n",
      "      Source           SS  DF           MS           F         p-unc  \\\n",
      "0  Condition  2712.500000   2  1356.250000  421.235294  2.899994e-18   \n",
      "1      Error    70.833333  22     3.219697         NaN           NaN   \n",
      "\n",
      "        ng2  eps  \n",
      "0  0.470206  0.5  \n",
      "1       NaN  NaN  \n"
     ]
    }
   ],
   "source": [
    "# Display the ANOVA table\n",
    "print(\"ANOVA Table:\")\n",
    "print(anova_results)"
   ],
   "metadata": {
    "collapsed": false,
    "ExecuteTime": {
     "start_time": "2024-12-18T11:17:32.455925Z",
     "end_time": "2024-12-18T11:17:32.473540Z"
    }
   }
  },
  {
   "cell_type": "markdown",
   "source": [
    "## Test sphericity assumption"
   ],
   "metadata": {
    "collapsed": false
   }
  },
  {
   "cell_type": "code",
   "execution_count": 35,
   "outputs": [
    {
     "name": "stdout",
     "output_type": "stream",
     "text": [
      "Sphericity is not violated. No correction needed.\n"
     ]
    }
   ],
   "source": [
    "sphericity_results = pg.sphericity(data=df_long,\n",
    "                                   dv='Reaction_Time',\n",
    "                                   within='Condition',\n",
    "                                   subject='Participant')\n",
    "\n",
    "# Extract relevant details from the SpherResults object\n",
    "is_sphericity_assumed = sphericity_results.spher\n",
    "w_stat = sphericity_results.W\n",
    "chi2_stat = sphericity_results.chi2\n",
    "dof = sphericity_results.dof\n",
    "p_val = sphericity_results.pval\n",
    "\n",
    "# Check if sphericity is violated and apply corrections if necessary\n",
    "if not is_sphericity_assumed:\n",
    "    print(\"Sphericity is violated. Applying Greenhouse-Geisser correction.\")\n",
    "    anova_results_corrected = pg.rm_anova(data=df_long,\n",
    "                                          dv='Reaction_Time',\n",
    "                                          within='Condition',\n",
    "                                          subject='Participant',\n",
    "                                          detailed=True,\n",
    "                                          correction=True)\n",
    "else:\n",
    "    print(\"Sphericity is not violated. No correction needed.\")\n",
    "    anova_results_corrected = anova_results"
   ],
   "metadata": {
    "collapsed": false,
    "ExecuteTime": {
     "start_time": "2024-12-18T11:27:21.360031Z",
     "end_time": "2024-12-18T11:27:21.408135Z"
    }
   }
  },
  {
   "cell_type": "markdown",
   "source": [
    "Display the ANOVA and sphericity results"
   ],
   "metadata": {
    "collapsed": false
   }
  },
  {
   "cell_type": "code",
   "execution_count": 37,
   "outputs": [
    {
     "name": "stdout",
     "output_type": "stream",
     "text": [
      "\n",
      "Repeated Measures ANOVA Results:\n",
      "       Source           SS  DF           MS           F         p-unc  \\\n",
      "0  Condition  2712.500000   2  1356.250000  421.235294  2.899994e-18   \n",
      "1      Error    70.833333  22     3.219697         NaN           NaN   \n",
      "\n",
      "        ng2  eps  \n",
      "0  0.470206  0.5  \n",
      "1       NaN  NaN  \n",
      "\n",
      "Sphericity Test Results:\n",
      "\n",
      "Sphericity Assumed: True\n",
      "W statistic: 0.6212, Chi-Square: 4.7614, df: 2, p-value: 0.0925\n"
     ]
    }
   ],
   "source": [
    "# Step 5: Display results\n",
    "print(\"\\nRepeated Measures ANOVA Results:\\n\", anova_results_corrected)\n",
    "print(\"\\nSphericity Test Results:\\n\")\n",
    "print(f\"Sphericity Assumed: {is_sphericity_assumed}\")\n",
    "print(f\"W statistic: {w_stat:.4f}, Chi-Square: {chi2_stat:.4f}, df: {dof}, p-value: {p_val:.4f}\")\n",
    "\n"
   ],
   "metadata": {
    "collapsed": false,
    "ExecuteTime": {
     "start_time": "2024-12-18T11:27:51.126743Z",
     "end_time": "2024-12-18T11:27:51.141105Z"
    }
   }
  },
  {
   "cell_type": "markdown",
   "source": [
    "## Interpret the results"
   ],
   "metadata": {
    "collapsed": false
   }
  },
  {
   "cell_type": "code",
   "execution_count": 40,
   "outputs": [
    {
     "name": "stdout",
     "output_type": "stream",
     "text": [
      "\n",
      "The p-value is below 0.01. We reject the null hypothesis.\n",
      "There is a statistically significant difference in reaction times across the conditions.\n"
     ]
    }
   ],
   "source": [
    "# Interpretation\n",
    "if anova_results_corrected['p-unc'][0] < 0.01:  # 1% significance level\n",
    "    print(\"\\nThe p-value is below 0.01. We reject the null hypothesis.\")\n",
    "    print(\"There is a statistically significant difference in reaction times across the conditions.\")\n",
    "else:\n",
    "    print(\"\\nThe p-value is above 0.01. We fail to reject the null hypothesis.\")\n",
    "    print(\"There is no statistically significant difference in reaction times across the conditions.\")"
   ],
   "metadata": {
    "collapsed": false,
    "ExecuteTime": {
     "start_time": "2024-12-18T11:39:45.724692Z",
     "end_time": "2024-12-18T11:39:45.784711Z"
    }
   }
  },
  {
   "cell_type": "markdown",
   "source": [
    "# Question 2:\n",
    "\n",
    "In this exercise, we will investigate the reaction times for three different tasks (A, B, and C) measured across 15 participants, each completing 5 trials per task. The goal is to determine if there are significant differences in reaction times between the tasks while accounting for variability between participants.\n",
    "\n",
    "Our approach to analyzing the data is structured as follows:\n",
    "\n",
    "1. **Hierarchical Model:** We will estimate the fixed effects to assess how reaction times differ between the tasks and the random effects to account for individual differences in baseline reaction times and variability across trials.\n",
    "\n",
    "2. ** Repeated Measures ANOVA :** to test for significant differences in reaction times across the three tasks. This will allow us to compare the performance across tasks while adjusting for within-subject correlation.\n",
    "\n",
    "\n",
    "By completing this exercise, we will interpret the results, focusing on whether there are statistically significant differences in reaction times between the tasks. We will examine the fixed effects for task differences and the random effects for participant-specific variability, providing insights into how each task impacts reaction time across participants."
   ],
   "metadata": {
    "collapsed": false
   }
  },
  {
   "cell_type": "markdown",
   "source": [
    "## Q2 Solution:"
   ],
   "metadata": {
    "collapsed": false
   }
  },
  {
   "cell_type": "code",
   "execution_count": 63,
   "outputs": [
    {
     "name": "stdout",
     "output_type": "stream",
     "text": [
      "    Participant Task  Trial 1  Trial 2  Trial 3  Trial 4  Trial 5\n",
      "0             1    A      250      245      240      255      250\n",
      "1             1    B      260      255      250      265      260\n",
      "2             1    C      270      265      260      275      270\n",
      "3             2    A      240      235      230      245      240\n",
      "4             2    B      250      245      240      255      250\n",
      "5             2    C      260      255      250      265      260\n",
      "6             3    A      255      250      245      250      255\n",
      "7             3    B      265      260      255      260      265\n",
      "8             3    C      275      270      265      270      275\n",
      "9             4    A      245      240      235      255      245\n",
      "10            4    B      255      250      245      265      255\n",
      "11            4    C      265      260      255      275      265\n",
      "12            5    A      250      245      240      255      250\n",
      "13            5    B      260      255      250      265      260\n",
      "14            5    C      270      265      260      275      270\n",
      "15            6    A      240      235      230      245      240\n",
      "16            6    B      250      245      240      255      250\n",
      "17            6    C      260      255      250      265      260\n",
      "18            7    A      255      250      245      260      255\n",
      "19            7    B      265      260      255      270      265\n",
      "20            7    C      275      270      265      280      275\n",
      "21            8    A      245      240      235      250      245\n",
      "22            8    B      255      250      245      260      255\n",
      "23            8    C      265      260      255      270      265\n",
      "24            9    A      250      245      240      255      250\n",
      "25            9    B      260      255      250      265      260\n",
      "26            9    C      270      265      260      275      270\n",
      "27           10    A      240      235      230      245      240\n",
      "28           10    B      250      245      240      255      250\n",
      "29           10    C      260      255      250      265      260\n",
      "30           11    A      255      250      245      260      255\n",
      "31           11    B      264      260      255      270      260\n",
      "32           11    C      275      270      265      280      275\n",
      "33           12    A      245      240      235      250      245\n",
      "34           12    B      255      250      245      260      255\n",
      "35           12    C      265      260      255      270      265\n",
      "36           13    A      250      245      240      255      250\n",
      "37           13    B      260      255      250      265      260\n",
      "38           13    C      270      265      260      275      270\n",
      "39           14    A      240      235      230      245      240\n",
      "40           14    B      250      245      240      255      250\n",
      "41           14    C      260      255      250      265      260\n",
      "42           15    A      245      240      235      250      245\n",
      "43           15    B      255      250      245      260      255\n",
      "44           15    C      265      260      255      270      265\n"
     ]
    }
   ],
   "source": [
    "# Data for the table\n",
    "data = {\n",
    "    'Participant': [1, 1, 1, 2, 2, 2, 3, 3, 3, 4, 4, 4, 5, 5, 5, 6, 6, 6, 7, 7, 7, 8, 8, 8,\n",
    "                    9, 9, 9, 10, 10, 10, 11, 11, 11, 12, 12, 12, 13, 13, 13, 14, 14, 14, 15, 15, 15],\n",
    "    'Task': ['A', 'B', 'C', 'A', 'B', 'C', 'A', 'B', 'C', 'A', 'B', 'C', 'A', 'B', 'C', 'A', 'B', 'C',\n",
    "             'A', 'B', 'C', 'A', 'B', 'C', 'A', 'B', 'C', 'A', 'B', 'C', 'A', 'B', 'C', 'A', 'B', 'C',\n",
    "             'A', 'B', 'C', 'A', 'B', 'C', 'A', 'B', 'C'],\n",
    "    'Trial 1': [250, 260, 270, 240, 250, 260, 255, 265, 275, 245, 255, 265, 250, 260, 270, 240, 250, 260,\n",
    "                255, 265, 275, 245, 255, 265, 250, 260, 270, 240, 250, 260, 255, 264, 275, 245, 255, 265,\n",
    "                250, 260, 270, 240, 250, 260, 245, 255, 265],\n",
    "    'Trial 2': [245, 255, 265, 235, 245, 255, 250, 260, 270, 240, 250, 260, 245, 255, 265, 235, 245, 255,\n",
    "                250, 260, 270, 240, 250, 260, 245, 255, 265, 235, 245, 255, 250, 260, 270, 240, 250, 260,\n",
    "                245, 255, 265, 235, 245, 255, 240, 250, 260],\n",
    "    'Trial 3': [240, 250, 260, 230, 240, 250, 245, 255, 265, 235, 245, 255, 240, 250, 260, 230, 240, 250,\n",
    "                245, 255, 265, 235, 245, 255, 240, 250, 260, 230, 240, 250, 245, 255, 265, 235, 245, 255,\n",
    "                240, 250, 260, 230, 240, 250, 235, 245, 255],\n",
    "    'Trial 4': [255, 265, 275, 245, 255, 265, 250, 260, 270, 255, 265, 275, 255, 265, 275, 245, 255, 265,\n",
    "                260, 270, 280, 250, 260, 270, 255, 265, 275, 245, 255, 265, 260, 270, 280, 250, 260, 270,\n",
    "                255, 265, 275, 245, 255, 265, 250, 260, 270],\n",
    "    'Trial 5': [250, 260, 270, 240, 250, 260, 255, 265, 275, 245, 255, 265, 250, 260, 270, 240, 250, 260,\n",
    "                255, 265, 275, 245, 255, 265, 250, 260, 270, 240, 250, 260, 255, 260, 275, 245, 255, 265,\n",
    "                250, 260, 270, 240, 250, 260, 245, 255, 265]\n",
    "}\n",
    "\n",
    "# Create a DataFrame\n",
    "df = pd.DataFrame(data)"
   ],
   "metadata": {
    "collapsed": false,
    "ExecuteTime": {
     "start_time": "2024-12-18T12:52:37.371466Z",
     "end_time": "2024-12-18T12:52:37.415465Z"
    }
   }
  },
  {
   "cell_type": "code",
   "execution_count": 64,
   "outputs": [
    {
     "name": "stdout",
     "output_type": "stream",
     "text": [
      "    Participant Task  Trial 1  Trial 2  Trial 3  Trial 4  Trial 5\n",
      "0             1    A      250      245      240      255      250\n",
      "1             1    B      260      255      250      265      260\n",
      "2             1    C      270      265      260      275      270\n",
      "3             2    A      240      235      230      245      240\n",
      "4             2    B      250      245      240      255      250\n",
      "5             2    C      260      255      250      265      260\n",
      "6             3    A      255      250      245      250      255\n",
      "7             3    B      265      260      255      260      265\n",
      "8             3    C      275      270      265      270      275\n",
      "9             4    A      245      240      235      255      245\n",
      "10            4    B      255      250      245      265      255\n",
      "11            4    C      265      260      255      275      265\n",
      "12            5    A      250      245      240      255      250\n",
      "13            5    B      260      255      250      265      260\n",
      "14            5    C      270      265      260      275      270\n",
      "15            6    A      240      235      230      245      240\n",
      "16            6    B      250      245      240      255      250\n",
      "17            6    C      260      255      250      265      260\n",
      "18            7    A      255      250      245      260      255\n",
      "19            7    B      265      260      255      270      265\n",
      "20            7    C      275      270      265      280      275\n",
      "21            8    A      245      240      235      250      245\n",
      "22            8    B      255      250      245      260      255\n",
      "23            8    C      265      260      255      270      265\n",
      "24            9    A      250      245      240      255      250\n",
      "25            9    B      260      255      250      265      260\n",
      "26            9    C      270      265      260      275      270\n",
      "27           10    A      240      235      230      245      240\n",
      "28           10    B      250      245      240      255      250\n",
      "29           10    C      260      255      250      265      260\n",
      "30           11    A      255      250      245      260      255\n",
      "31           11    B      264      260      255      270      260\n",
      "32           11    C      275      270      265      280      275\n",
      "33           12    A      245      240      235      250      245\n",
      "34           12    B      255      250      245      260      255\n",
      "35           12    C      265      260      255      270      265\n",
      "36           13    A      250      245      240      255      250\n",
      "37           13    B      260      255      250      265      260\n",
      "38           13    C      270      265      260      275      270\n",
      "39           14    A      240      235      230      245      240\n",
      "40           14    B      250      245      240      255      250\n",
      "41           14    C      260      255      250      265      260\n",
      "42           15    A      245      240      235      250      245\n",
      "43           15    B      255      250      245      260      255\n",
      "44           15    C      265      260      255      270      265\n"
     ]
    }
   ],
   "source": [
    "# Display the DataFrame\n",
    "print(df)"
   ],
   "metadata": {
    "collapsed": false,
    "ExecuteTime": {
     "start_time": "2024-12-18T12:52:50.113633Z",
     "end_time": "2024-12-18T12:52:50.118534Z"
    }
   }
  },
  {
   "cell_type": "code",
   "execution_count": 65,
   "outputs": [
    {
     "name": "stdout",
     "output_type": "stream",
     "text": [
      "     Participant Task    Trial  Score\n",
      "0              1    A  Trial 1    250\n",
      "1              1    B  Trial 1    260\n",
      "2              1    C  Trial 1    270\n",
      "3              2    A  Trial 1    240\n",
      "4              2    B  Trial 1    250\n",
      "..           ...  ...      ...    ...\n",
      "220           14    B  Trial 5    250\n",
      "221           14    C  Trial 5    260\n",
      "222           15    A  Trial 5    245\n",
      "223           15    B  Trial 5    255\n",
      "224           15    C  Trial 5    265\n",
      "\n",
      "[225 rows x 4 columns]\n"
     ]
    }
   ],
   "source": [
    "# Reshape the DataFrame to long format\n",
    "df_long = pd.melt(df, id_vars=['Participant', 'Task'], var_name='Trial', value_name='Score')\n",
    "\n",
    "# Display the DataFrame in long format\n",
    "print(df_long)"
   ],
   "metadata": {
    "collapsed": false,
    "ExecuteTime": {
     "start_time": "2024-12-18T12:53:38.975897Z",
     "end_time": "2024-12-18T12:53:39.016018Z"
    }
   }
  },
  {
   "cell_type": "markdown",
   "source": [
    "## Perform Mixed-Effects Model"
   ],
   "metadata": {
    "collapsed": false
   }
  },
  {
   "cell_type": "code",
   "execution_count": 73,
   "outputs": [],
   "source": [
    "# Fit the Mixed-Effects Model using statsmodels\n",
    "model = mixedlm(\"Score ~ Task\", df_long, groups=df_long[\"Participant\"])\n",
    "mixed_model = model.fit()"
   ],
   "metadata": {
    "collapsed": false,
    "ExecuteTime": {
     "start_time": "2024-12-18T13:01:08.735920Z",
     "end_time": "2024-12-18T13:01:08.840166Z"
    }
   }
  },
  {
   "cell_type": "markdown",
   "source": [
    "Display the ANOVA table"
   ],
   "metadata": {
    "collapsed": false
   }
  },
  {
   "cell_type": "code",
   "execution_count": 74,
   "outputs": [
    {
     "name": "stdout",
     "output_type": "stream",
     "text": [
      "Mixed-Effects Model results:\n",
      "         Mixed Linear Model Regression Results\n",
      "========================================================\n",
      "Model:             MixedLM Dependent Variable: Score    \n",
      "No. Observations:  225     Method:             REML     \n",
      "No. Groups:        15      Scale:              28.5541  \n",
      "Min. group size:   15      Log-Likelihood:     -712.5374\n",
      "Max. group size:   15      Converged:          Yes      \n",
      "Mean group size:   15.0                                 \n",
      "--------------------------------------------------------\n",
      "           Coef.  Std.Err.    z    P>|z|  [0.025  0.975]\n",
      "--------------------------------------------------------\n",
      "Intercept 244.933    1.474 166.225 0.000 242.045 247.821\n",
      "Task[T.B]   9.920    0.873  11.368 0.000   8.210  11.630\n",
      "Task[T.C]  20.000    0.873  22.920 0.000  18.290  21.710\n",
      "Group Var  26.857    2.102                              \n",
      "========================================================\n",
      "\n"
     ]
    }
   ],
   "source": [
    "# Print Results\n",
    "print(\"Mixed-Effects Model results:\")\n",
    "print(mixed_model.summary())\n"
   ],
   "metadata": {
    "collapsed": false,
    "ExecuteTime": {
     "start_time": "2024-12-18T13:01:10.161496Z",
     "end_time": "2024-12-18T13:01:10.233056Z"
    }
   }
  },
  {
   "cell_type": "markdown",
   "source": [
    "## Perform repeated measures ANOVA"
   ],
   "metadata": {
    "collapsed": false
   }
  },
  {
   "cell_type": "code",
   "execution_count": 77,
   "outputs": [],
   "source": [
    "# Perform repeated measures ANOVA using pingouin\n",
    "anova_results = pg.rm_anova(dv='Score', within='Task', subject='Participant', data=df_long)\n"
   ],
   "metadata": {
    "collapsed": false,
    "ExecuteTime": {
     "start_time": "2024-12-18T13:02:03.742410Z",
     "end_time": "2024-12-18T13:02:03.773611Z"
    }
   }
  },
  {
   "cell_type": "markdown",
   "source": [
    "Display the ANOVA table"
   ],
   "metadata": {
    "collapsed": false
   }
  },
  {
   "cell_type": "code",
   "execution_count": 78,
   "outputs": [
    {
     "name": "stdout",
     "output_type": "stream",
     "text": [
      "\n",
      "Repeated Measures ANOVA results:\n",
      "  Source  ddof1  ddof2        F         p-unc       ng2  eps\n",
      "0   Task      2     28  46876.0  4.473725e-50  0.712799  0.5\n"
     ]
    }
   ],
   "source": [
    "# Display the ANOVA table\n",
    "print(\"\\nRepeated Measures ANOVA results:\")\n",
    "print(anova_results)"
   ],
   "metadata": {
    "collapsed": false,
    "ExecuteTime": {
     "start_time": "2024-12-18T13:02:08.062966Z",
     "end_time": "2024-12-18T13:02:08.079737Z"
    }
   }
  },
  {
   "cell_type": "markdown",
   "source": [
    "## Interpret the results"
   ],
   "metadata": {
    "collapsed": false
   }
  },
  {
   "cell_type": "code",
   "execution_count": 92,
   "outputs": [
    {
     "name": "stdout",
     "output_type": "stream",
     "text": [
      "\n",
      "--- Mixed-Effects Model Interpretation ---\n",
      "The fixed effects for Task[T.B] and Task[T.C] show how much each Task (B and C) differs from the baseline (Task A).\n",
      "Task B has a significant effect on Score compared to Task A (p = 0.0000).\n",
      "Task C has a significant effect on Score compared to Task A (p = 2.947685299767912e-116).\n",
      "\n",
      "--- Repeated Measures ANOVA Interpretation ---\n",
      "The F-value indicates the ratio of variance between tasks to the variance within participants.\n",
      "A significant p-value (usually < 0.05) means that there are differences in scores across tasks.\n",
      "The np2 (partial eta-squared) indicates the proportion of variance explained by Task.\n",
      "The p-value for Task in the ANOVA is 4.473724553748408e-50, which is significant.\n",
      "This suggests that there are significant differences in scores between the different Tasks.\n",
      "\n",
      "Effect Size Interpretation:\n",
      "The np2 (effect size) from the ANOVA is 0.7127993218096733. This indicates how much of the total variance in scores is explained by the Task factor.\n"
     ]
    }
   ],
   "source": [
    "# Mixed-Effects Model Interpretation\n",
    "print(\"\\n--- Mixed-Effects Model Interpretation ---\")\n",
    "\n",
    "# Get p-values for the fixed effects (Task[T.B] and Task[T.C])\n",
    "task_b_pvalue = mixed_model.pvalues[\"Task[T.B]\"]\n",
    "task_c_pvalue = mixed_model.pvalues[\"Task[T.C]\"]\n",
    "\n",
    "print(\"The fixed effects for Task[T.B] and Task[T.C] show how much each Task (B and C) differs from the baseline (Task A).\")\n",
    "\n",
    "# Interpretation for Task B\n",
    "if task_b_pvalue < 0.05:\n",
    "    print(f\"Task B has a significant effect on Score compared to Task A (p = {task_b_pvalue:.4f}).\")\n",
    "else:\n",
    "    print(f\"Task B does not have a significant effect on Score compared to Task A (p = {task_b_pvalue:.4f}).\")\n",
    "\n",
    "# Interpretation for Task C\n",
    "if task_c_pvalue < 0.05:\n",
    "    print(f\"Task C has a significant effect on Score compared to Task A (p = {task_c_pvalue}).\")\n",
    "else:\n",
    "    print(f\"Task C does not have a significant effect on Score compared to Task A (p = {task_c_pvalue}).\")\n",
    "\n",
    "# Repeated Measures ANOVA Interpretation\n",
    "print(\"\\n--- Repeated Measures ANOVA Interpretation ---\")\n",
    "print(\"The F-value indicates the ratio of variance between tasks to the variance within participants.\")\n",
    "print(\"A significant p-value (usually < 0.05) means that there are differences in scores across tasks.\")\n",
    "print(\"The np2 (partial eta-squared) indicates the proportion of variance explained by Task.\")\n",
    "\n",
    "# Example interpretation for Repeated Measures ANOVA\n",
    "anova_pvalue = anova_results['p-unc'][0]  # Corrected column name\n",
    "if anova_pvalue < 0.05:\n",
    "    print(f\"The p-value for Task in the ANOVA is {anova_pvalue}, which is significant.\")\n",
    "    print(f\"This suggests that there are significant differences in scores between the different Tasks.\")\n",
    "else:\n",
    "    print(f\"The p-value for Task in the ANOVA is {anova_pvalue}, which is not significant.\")\n",
    "    print(\"This suggests that Task does not significantly affect the scores.\")\n",
    "\n",
    "print(\"\\nEffect Size Interpretation:\")\n",
    "print(f\"The np2 (effect size) from the ANOVA is {anova_results['ng2'][0]}. This indicates how much of the total variance in scores is explained by the Task factor.\")\n"
   ],
   "metadata": {
    "collapsed": false,
    "ExecuteTime": {
     "start_time": "2024-12-18T14:01:57.469890Z",
     "end_time": "2024-12-18T14:01:57.487318Z"
    }
   }
  }
 ],
 "metadata": {
  "kernelspec": {
   "display_name": "Python 3",
   "language": "python",
   "name": "python3"
  },
  "language_info": {
   "codemirror_mode": {
    "name": "ipython",
    "version": 2
   },
   "file_extension": ".py",
   "mimetype": "text/x-python",
   "name": "python",
   "nbconvert_exporter": "python",
   "pygments_lexer": "ipython2",
   "version": "2.7.6"
  }
 },
 "nbformat": 4,
 "nbformat_minor": 0
}
