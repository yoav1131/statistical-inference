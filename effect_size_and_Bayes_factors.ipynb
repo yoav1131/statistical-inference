{
 "cells": [
  {
   "cell_type": "markdown",
   "source": [
    "# Exercise 7 Solution: Effect Sizes, Significance, and Bayesian Evidence\n",
    "\n",
    "In this exercise, we explore essential methods for evaluating statistical evidence in neuroscience, focusing not only on whether an effect exists but also on how large and meaningful that effect is. We introduce both frequentest and Bayesian approaches to inference, emphasizing the importance of combining significance testing with measures of effect size and strength of evidence.\n",
    "\n",
    "Specifically, we will:\n",
    "\n",
    "1. **p-values and Statistical Significance:** Learn how p-values quantify the probability of observing a test statistic as extreme as—or more extreme than—the one obtained, assuming the null hypothesis is true. We apply this to neuroscience problems such as ERP amplitude comparisons and BCI decoding accuracy to evaluate whether observed differences are statistically significant.\n",
    "\n",
    "2. **Cohen’s d and Effect Sizes:** Go beyond p-values by computing Cohen’s d to measure the magnitude of an observed effect. We illustrate how even small effects can become statistically significant in large samples, and why effect sizes are critical for interpreting practical or clinical relevance in neuroscience research.\n",
    "\n",
    "3. **Statistical vs. Practical Significance:** Use simulated EEG and reaction time data to highlight cases where a statistically significant result (low p-value) has a negligible effect size (small d), and vice versa. This helps students distinguish between a \"detectable\" and a \"meaningful\" difference in experimental data.\n",
    "\n",
    "4. **Bayes Factors as an Alternative to p-values:** Introduce Bayes Factors to evaluate how strongly the data supports the alternative hypothesis over the null. Using Pingouin’s bayesfactor_ttest, we compare competing hypotheses in EEG experiments and show how Bayes Factors provide direct evidence that complements traditional hypothesis testing.\n",
    "\n",
    "5. **Interpreting Bayesian Evidence:** Understand how to interpret Bayes Factors using established thresholds (e.g., BF > 3 for moderate evidence) and how this framework helps avoid binary thinking (“significant” vs “not significant”), especially in borderline cases.\n",
    "\n",
    "By the end of this exercise, you'll understand how to evaluate results in neuroscience using multiple lenses: statistical significance (p-values), effect size (Cohen’s d), and strength of evidence (Bayes Factors).\n"
   ],
   "metadata": {
    "collapsed": false
   }
  },
  {
   "cell_type": "code",
   "execution_count": 137,
   "outputs": [],
   "source": [
    "import numpy as np\n",
    "from scipy.stats import ttest_rel\n",
    "from pingouin import compute_effsize\n",
    "import matplotlib.pyplot as plt\n",
    "import pingouin as pg\n",
    "from scipy.stats import t\n",
    "import scipy.stats"
   ],
   "metadata": {
    "collapsed": false,
    "ExecuteTime": {
     "start_time": "2025-05-18T13:27:05.723702Z",
     "end_time": "2025-05-18T13:27:05.747728Z"
    }
   }
  },
  {
   "cell_type": "markdown",
   "source": [
    "## Exercise 1: Comparing P300 Amplitudes in an Oddball Task"
   ],
   "metadata": {
    "collapsed": false
   }
  },
  {
   "cell_type": "code",
   "execution_count": 138,
   "outputs": [],
   "source": [
    "# Set seed for reproducibility\n",
    "np.random.seed(42)\n",
    "n = 2000\n",
    "scale = 0.3\n",
    "mean_1 = 5.05\n",
    "mean_2 = 5.0\n",
    "# Simulate P300 amplitudes (µV) for 30 participants\n",
    "# Target condition has slightly higher mean (e.g., 5.2 vs 5.0)\n",
    "p300_target = np.random.normal(loc=mean_1, scale=scale, size=n)\n",
    "p300_nontarget = np.random.normal(loc=mean_2, scale=scale, size=n)\n"
   ],
   "metadata": {
    "collapsed": false,
    "ExecuteTime": {
     "start_time": "2025-05-18T13:27:06.973151Z",
     "end_time": "2025-05-18T13:27:06.998500Z"
    }
   }
  },
  {
   "cell_type": "code",
   "execution_count": 139,
   "outputs": [
    {
     "name": "stdout",
     "output_type": "stream",
     "text": [
      "T-statistic: 6.860\n",
      "P-value: 9.131076637229024e-12\n"
     ]
    }
   ],
   "source": [
    "# Paired t-test\n",
    "t_stat, p_val = ttest_rel(p300_target, p300_nontarget)\n",
    "print(f\"T-statistic: {t_stat:.3f}\")\n",
    "print(f\"P-value: {p_val}\")\n"
   ],
   "metadata": {
    "collapsed": false,
    "ExecuteTime": {
     "start_time": "2025-05-18T13:27:07.835311Z",
     "end_time": "2025-05-18T13:27:07.856398Z"
    }
   }
  },
  {
   "cell_type": "code",
   "execution_count": 140,
   "outputs": [
    {
     "name": "stdout",
     "output_type": "stream",
     "text": [
      "Cohen's d: 0.219\n"
     ]
    }
   ],
   "source": [
    "# Cohen's d for paired data\n",
    "d = compute_effsize(p300_target, p300_nontarget, paired=True, eftype='cohen')\n",
    "print(f\"Cohen's d: {d:.3f}\")\n"
   ],
   "metadata": {
    "collapsed": false,
    "ExecuteTime": {
     "start_time": "2025-05-18T13:27:09.489943Z",
     "end_time": "2025-05-18T13:27:09.508476Z"
    }
   }
  },
  {
   "cell_type": "code",
   "execution_count": 141,
   "outputs": [
    {
     "data": {
      "text/plain": "<Figure size 600x400 with 1 Axes>",
      "image/png": "[encoded data removed]"
     },
     "metadata": {},
     "output_type": "display_data"
    }
   ],
   "source": [
    "# Visual comparison\n",
    "plt.figure(figsize=(6, 4))\n",
    "plt.boxplot([p300_target, p300_nontarget], labels=['Target', 'Non-target'])\n",
    "plt.title(\"P300 Amplitudes in Oddball Task\")\n",
    "plt.ylabel(\"Amplitude (µV)\")\n",
    "plt.grid(True)\n",
    "plt.show()\n"
   ],
   "metadata": {
    "collapsed": false,
    "ExecuteTime": {
     "start_time": "2025-05-18T13:27:10.433665Z",
     "end_time": "2025-05-18T13:27:10.584639Z"
    }
   }
  },
  {
   "cell_type": "markdown",
   "source": [
    "### The difference is statistically significant due to the large sample size, but the effect is too small to be practically meaningful, such as for classification in a BCI system. This highlights the importance of reporting both p-values and effect sizes. (You can play with the sample size and the distribution and see what will happen)"
   ],
   "metadata": {
    "collapsed": false
   }
  },
  {
   "cell_type": "markdown",
   "source": [
    "## Example 2: Mean BOLD signal in DLPFC"
   ],
   "metadata": {
    "collapsed": false
   }
  },
  {
   "cell_type": "code",
   "execution_count": 150,
   "outputs": [],
   "source": [
    "def generate_data(n, effect_size, seed=None):\n",
    "    \"\"\"\n",
    "    Generate two random samples with a specified effect size.\n",
    "\n",
    "    Parameters:\n",
    "    n (int): Sample size for each sample.\n",
    "    effect_size (float): Cohen's d, the effect size.\n",
    "    seed (int, optional): Seed for random number generator.\n",
    "\n",
    "    Returns:\n",
    "    tuple: Two numpy arrays representing the samples.\n",
    "    \"\"\"\n",
    "    if seed is not None:\n",
    "        np.random.seed(seed)\n",
    "\n",
    "    mu1, sigma = 0, 1  # Mean and standard deviation of the samples\n",
    "    mu2 = mu1 + effect_size  # Adjusted mean for the second sample\n",
    "\n",
    "    sample1 = np.random.normal(loc=mu1, scale=sigma, size=n)\n",
    "    sample2 = np.random.normal(loc=mu2, scale=sigma, size=n)\n",
    "\n",
    "    return sample1, sample2"
   ],
   "metadata": {
    "collapsed": false,
    "ExecuteTime": {
     "start_time": "2025-05-18T13:28:31.819272Z",
     "end_time": "2025-05-18T13:28:31.829113Z"
    }
   }
  },
  {
   "cell_type": "code",
   "execution_count": 151,
   "outputs": [],
   "source": [
    "# Simulate paired data\n",
    "np.random.seed(42)\n",
    "n = 75\n",
    "bold_low = np.random.normal(loc=0.8, scale=0.3, size=n)\n",
    "bold_high = bold_low + np.random.normal(loc=0.1, scale=0.25, size=n)\n",
    "# bold_high = bold_low + np.random.normal(loc=0.25, scale=0.1, size=n)\n",
    "\n",
    "# Paired t-test + Cohen's d\n",
    "t_stat, p_value = scipy.stats.ttest_ind(bold_high, bold_low)\n",
    "\n"
   ],
   "metadata": {
    "collapsed": false,
    "ExecuteTime": {
     "start_time": "2025-05-18T13:30:21.195357Z",
     "end_time": "2025-05-18T13:30:21.203698Z"
    }
   }
  },
  {
   "cell_type": "code",
   "execution_count": 152,
   "outputs": [],
   "source": [
    "# Compute Cohen's d using pingouin\n",
    "# results = pg.ttest(x=bold_high, y=bold_low, paired=True)\n",
    "# t_val = results['T'].values[0]\n",
    "# p_val = results['p-val'].values[0]\n",
    "# d = results['cohen-d'].values[0]\n",
    "\n",
    "# Compute means and standard deviations\n",
    "mean1 = np.mean(bold_low)\n",
    "mean2 = np.mean(bold_high)\n",
    "std1 = np.std(bold_low, ddof=1)  # sample standard deviation\n",
    "std2 = np.std(bold_high, ddof=1)\n",
    "\n",
    "# Sample sizes\n",
    "n1 = len(bold_low)\n",
    "n2 = len(bold_high)\n",
    "\n",
    "# Compute pooled standard deviation\n",
    "pooled_std = np.sqrt(((n1 - 1) * std1**2 + (n2 - 1) * std2**2) / (n1 + n2 - 2))\n",
    "\n",
    "# Compute Cohen's d\n",
    "cohens_d = np.abs((mean1 - mean2)) / pooled_std\n"
   ],
   "metadata": {
    "collapsed": false,
    "ExecuteTime": {
     "start_time": "2025-05-18T13:30:22.343624Z",
     "end_time": "2025-05-18T13:30:22.356648Z"
    }
   }
  },
  {
   "cell_type": "code",
   "execution_count": 153,
   "outputs": [
    {
     "name": "stdout",
     "output_type": "stream",
     "text": [
      "T-statistic: 1.64\n",
      "P-value: 9.131076637229024e-12\n",
      "Cohen's d: 0.27122671360953915\n"
     ]
    }
   ],
   "source": [
    "print(\"T-statistic:\", round(t_val, 3))\n",
    "print(\"P-value:\", p_val)\n",
    "print(f\"Cohen's d: {cohens_d}\")\n"
   ],
   "metadata": {
    "collapsed": false,
    "ExecuteTime": {
     "start_time": "2025-05-18T13:30:24.913112Z",
     "end_time": "2025-05-18T13:30:24.934119Z"
    }
   }
  },
  {
   "cell_type": "code",
   "execution_count": 154,
   "outputs": [
    {
     "name": "stdout",
     "output_type": "stream",
     "text": [
      "Approximate Bayes Factor BF10: 0.621\n"
     ]
    }
   ],
   "source": [
    "def estimate_bayes_factor(sample1, sample2, prior_width=0.707):\n",
    "    \"\"\"\n",
    "    Estimate the Bayes factor for two samples using a t-test.\n",
    "\n",
    "    Parameters:\n",
    "    sample1 (array-like): First sample.\n",
    "    sample2 (array-like): Second sample.\n",
    "    prior_width (float): Width of the Cauchy prior for the Bayes factor calculation.\n",
    "\n",
    "    Returns:\n",
    "    tuple: t-statistic, p-value, and Bayes factor.\n",
    "    \"\"\"\n",
    "    t_stat, p_value = scipy.stats.ttest_ind(sample2, sample1)\n",
    "\n",
    "    n1, n2 = len(sample1), len(sample2)\n",
    "    bayes_factor = pg.bayesfactor_ttest(t_stat, nx=n1, ny=n2, paired=False, alternative=\"two-sided\", r=prior_width)\n",
    "\n",
    "    return bayes_factor\n",
    "\n",
    "# Calculate Bayes Factor\n",
    "bf10 = estimate_bayes_factor(bold_low, bold_high, prior_width=0.707)\n",
    "print(\"Approximate Bayes Factor BF10:\", round(bf10, 3))\n"
   ],
   "metadata": {
    "collapsed": false,
    "ExecuteTime": {
     "start_time": "2025-05-18T13:30:27.058053Z",
     "end_time": "2025-05-18T13:30:27.069327Z"
    }
   }
  },
  {
   "cell_type": "code",
   "execution_count": 155,
   "outputs": [
    {
     "data": {
      "text/plain": "<Figure size 600x400 with 1 Axes>",
      "image/png": "[encoded data removed]"
     },
     "metadata": {},
     "output_type": "display_data"
    }
   ],
   "source": [
    "plt.figure(figsize=(6, 4))\n",
    "plt.boxplot([bold_low, bold_high], labels=[\"Low Load\", \"High Load\"])\n",
    "plt.ylabel(\"DLPFC BOLD (a.u.)\")\n",
    "plt.title(\"DLPFC Activation - Working Memory Load\")\n",
    "plt.grid(True)\n",
    "plt.show()\n"
   ],
   "metadata": {
    "collapsed": false,
    "ExecuteTime": {
     "start_time": "2025-05-18T13:30:28.412238Z",
     "end_time": "2025-05-18T13:30:28.596513Z"
    }
   }
  }
 ],
 "metadata": {
  "kernelspec": {
   "display_name": "Python 3",
   "language": "python",
   "name": "python3"
  },
  "language_info": {
   "codemirror_mode": {
    "name": "ipython",
    "version": 2
   },
   "file_extension": ".py",
   "mimetype": "text/x-python",
   "name": "python",
   "nbconvert_exporter": "python",
   "pygments_lexer": "ipython2",
   "version": "2.7.6"
  }
 },
 "nbformat": 4,
 "nbformat_minor": 0
}
