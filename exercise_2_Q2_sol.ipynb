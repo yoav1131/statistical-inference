{
 "cells": [
  {
   "cell_type": "markdown",
   "source": [
    "# Question 2 Solution: Predicting Cognitive Performance from EEG Data\n",
    "\n",
    "In this exercise, we will develop and evaluate a multiple linear regression model that predicts cognitive performance scores (ranging from 0 to 100) using various EEG features recorded during a cognitive task.\n",
    "The provided dataset includes the following key variables: **theta** which represents the power in the theta frequency band (4-8 Hz), **alpha**  the power in the alpha band (8-12 Hz), **beta** the power in the beta band (12-30 Hz), **gamma** the power in the gamma band (30-50 Hz), and **performance** the dependent variable representing the cognitive performance score.\n",
    "\n",
    "Our approach will be structured as follows:\n",
    "\n",
    "1. **Model Development:** We will construct and fit a multiple linear regression model to predict cognitive performance scores using the given EEG features as predictors.\n",
    "2. **Model Evaluation:** We will assess the model's predictive accuracy using the coefficient of determination, $R^{2}$,to understand how well the EEG features explain the variance in cognitive performance.\n",
    "3. **Multicollinearity Analysis:** We will compute the Variance Inflation Factor (VIF) for each predictor to check for multicollinearity. We will interpret these VIF values and discuss how multicollinearity might impact the model’s reliability and the interpretability of individual feature coefficients.\n",
    "\n",
    "By completing this exercise, we will gain deeper insights into building and evaluating a multiple linear regression model, understanding key performance metrics like $R^{2}$, and recognizing the implications of multicollinearity using VIF values on the model's predictive strength and robustness.\n"
   ],
   "metadata": {
    "collapsed": false
   }
  },
  {
   "cell_type": "code",
   "execution_count": 110,
   "outputs": [],
   "source": [
    "import pandas as pd\n",
    "import numpy as np\n",
    "from sklearn.linear_model import LinearRegression\n",
    "from sklearn.metrics import r2_score\n",
    "from statsmodels.stats.outliers_influence import variance_inflation_factor\n",
    "import statsmodels.api as sm\n",
    "import matplotlib.pyplot as plt"
   ],
   "metadata": {
    "collapsed": false,
    "ExecuteTime": {
     "start_time": "2024-11-04T13:34:25.306710Z",
     "end_time": "2024-11-04T13:34:25.323511Z"
    }
   }
  },
  {
   "cell_type": "markdown",
   "source": [
    "We are using pandas to create the dataset based on the problem statement."
   ],
   "metadata": {
    "collapsed": false
   }
  },
  {
   "cell_type": "code",
   "execution_count": 112,
   "outputs": [],
   "source": [
    "np.random.seed(0)  # For reproducibility\n",
    "data = {\n",
    "    'Theta': [0.5, 0.6, 0.4, 0.3, 0.7, 0.8, 0.2, 0.9, 0.1, 0.6],\n",
    "    'Alpha': [1.2, 1.5, 1.1, 1.0, 1.4, 1.3, 0.9, 1.6, 0.8, 1.7],\n",
    "    'Beta': [0.3, 0.4, 0.3, 0.2, 0.5, 0.4, 0.1, 0.6, 0.2, 0.5],\n",
    "    'Gamma': [0.7, 0.9, 0.6, 0.5, 1.0, 0.8, 0.4, 1.1, 0.3, 0.9],\n",
    "    'Performance': [75, 80, 65, 70, 85, 78, 60, 90, 55, 82]  # Base performance scores\n",
    "}\n",
    "\n",
    "# Adding significant random noise to the performance scores, you can play with the noise variables (mean and std) to see how it effects the model (TODO)\n",
    "noise = np.random.normal(0, 10, size=10)  # Mean 0, standard deviation 10\n",
    "data['Performance'] = data['Performance'] + noise\n",
    "\n",
    "# Convert to a pandas DataFrame\n",
    "df = pd.DataFrame(data)\n"
   ],
   "metadata": {
    "collapsed": false,
    "ExecuteTime": {
     "start_time": "2024-11-04T13:34:30.276445Z",
     "end_time": "2024-11-04T13:34:30.296381Z"
    }
   }
  },
  {
   "cell_type": "markdown",
   "source": [
    "## Q2.1: Fit the Multiple Linear Regression Model"
   ],
   "metadata": {
    "collapsed": false
   }
  },
  {
   "cell_type": "code",
   "execution_count": 113,
   "outputs": [
    {
     "name": "stdout",
     "output_type": "stream",
     "text": [
      "Intercept: 53.874397047827074\n",
      "Coefficients: [-66.77386136 -28.5351442  -89.53875868 178.56666631]\n"
     ]
    }
   ],
   "source": [
    "# Define independent variables (features) and dependent variable (target)\n",
    "X = df[['Theta', 'Alpha', 'Beta', 'Gamma']]\n",
    "y = df['Performance']\n",
    "\n",
    "# Add constant term for intercept\n",
    "# X = sm.add_constant(X)\n",
    "\n",
    "# Fitting the multiple linear regression model\n",
    "model = LinearRegression()\n",
    "model.fit(X, y)\n",
    "\n",
    "# Getting the coefficients and intercept\n",
    "intercept = model.intercept_\n",
    "coefficients = model.coef_\n",
    "\n",
    "print(\"Intercept:\", intercept)\n",
    "print(\"Coefficients:\", coefficients)"
   ],
   "metadata": {
    "collapsed": false,
    "ExecuteTime": {
     "start_time": "2024-11-04T13:34:31.660093Z",
     "end_time": "2024-11-04T13:34:31.673545Z"
    }
   }
  },
  {
   "cell_type": "markdown",
   "source": [
    "**Note:** The intercept is the value when all features are zero. The coefficients represent the change in the performance score for a one-unit increase in each EEG feature."
   ],
   "metadata": {
    "collapsed": false
   }
  },
  {
   "cell_type": "markdown",
   "source": [
    "\n",
    "## Q2.2: Calculate the Coefficient of Determination $R^2$"
   ],
   "metadata": {
    "collapsed": false
   }
  },
  {
   "cell_type": "code",
   "execution_count": 114,
   "outputs": [
    {
     "name": "stdout",
     "output_type": "stream",
     "text": [
      "R^2: 0.691030173934144\n"
     ]
    }
   ],
   "source": [
    "# Predicting the performance scores\n",
    "y_pred = model.predict(X)\n",
    "\n",
    "# Calculating R^2\n",
    "r2 = r2_score(y, y_pred)\n",
    "print(\"R^2:\", r2)\n"
   ],
   "metadata": {
    "collapsed": false,
    "ExecuteTime": {
     "start_time": "2024-11-04T13:34:35.260208Z",
     "end_time": "2024-11-04T13:34:35.273864Z"
    }
   }
  },
  {
   "cell_type": "markdown",
   "source": [
    "## Q2.3: Check for Multicollinearity Using VIF"
   ],
   "metadata": {
    "collapsed": false
   }
  },
  {
   "cell_type": "code",
   "execution_count": 115,
   "outputs": [
    {
     "name": "stdout",
     "output_type": "stream",
     "text": [
      "  Feature        VIF\n",
      "0   Theta  10.392401\n",
      "1   Alpha   9.846803\n",
      "2    Beta  11.346477\n",
      "3   Gamma  27.602345\n"
     ]
    }
   ],
   "source": [
    "# Adding a constant to the features matrix for VIF calculation\n",
    "X_with_const = sm.add_constant(X)\n",
    "\n",
    "# Calculating VIF for each feature\n",
    "vif = pd.DataFrame()\n",
    "vif[\"Feature\"] = X.columns\n",
    "vif[\"VIF\"] = [variance_inflation_factor(X_with_const.values, i+1) for i in range(len(X.columns))]\n",
    "\n",
    "print(vif)\n"
   ],
   "metadata": {
    "collapsed": false,
    "ExecuteTime": {
     "start_time": "2024-11-04T13:34:37.320202Z",
     "end_time": "2024-11-04T13:34:37.368688Z"
    }
   }
  },
  {
   "cell_type": "markdown",
   "source": [
    "## Q4.3: Bootstrapping for Confidence Interval"
   ],
   "metadata": {
    "collapsed": false
   }
  },
  {
   "cell_type": "code",
   "execution_count": 116,
   "outputs": [
    {
     "data": {
      "text/plain": "<Figure size 640x480 with 1 Axes>",
      "image/png": "[encoded data removed]"
     },
     "metadata": {},
     "output_type": "display_data"
    }
   ],
   "source": [
    "# Step 8: Plotting the actual vs predicted values\n",
    "plt.scatter(y, y_pred)\n",
    "plt.xlabel('Actual Performance')\n",
    "plt.ylabel('Predicted Performance')\n",
    "plt.title('Actual vs Predicted Performance')\n",
    "plt.plot([min(y), max(y)], [min(y), max(y)], color='red', linestyle='--')  # Reference line\n",
    "\n",
    "# plt.xlim(60, 90)\n",
    "# plt.ylim(60, 90)\n",
    "plt.show()"
   ],
   "metadata": {
    "collapsed": false,
    "ExecuteTime": {
     "start_time": "2024-11-04T13:34:39.467531Z",
     "end_time": "2024-11-04T13:34:39.690415Z"
    }
   }
  },
  {
   "cell_type": "markdown",
   "source": [
    "The intercept and coefficients provide insights into how each EEG feature impacts the cognitive performance score.\n",
    "The R² value indicates the extent to which the model explains the variability of the response data, showing the model's overall fit.\n",
    "Lastly, the VIF (Variance Inflation Factor) helps detect if any independent variable is highly collinear with others, which is crucial for understanding the reliability of the regression coefficients."
   ],
   "metadata": {
    "collapsed": false
   }
  }
 ],
 "metadata": {
  "kernelspec": {
   "display_name": "Python 3",
   "language": "python",
   "name": "python3"
  },
  "language_info": {
   "codemirror_mode": {
    "name": "ipython",
    "version": 2
   },
   "file_extension": ".py",
   "mimetype": "text/x-python",
   "name": "python",
   "nbconvert_exporter": "python",
   "pygments_lexer": "ipython2",
   "version": "2.7.6"
  }
 },
 "nbformat": 4,
 "nbformat_minor": 0
}
