{
 "cells": [
  {
   "cell_type": "markdown",
   "source": [
    "# Question 2 Solution: Predicting Cognitive Performance from EEG Data\n",
    "\n",
    "In this exercise, we will investigate the relationship between brainwave band dominance and reaction times.\n",
    "The dataset consists of reaction time measurements taken across three different brainwave frequency bands: **theta** which represents the power in the theta frequency band (4-8 Hz), **alpha**  the power in the alpha band (8-12 Hz), and **beta** the power in the beta band (12-30 Hz).\n",
    "Our goal is to determine whether the mean reaction times differ significantly across these three brainwave frequency bands using statistical methods, specifically the one-way ANOVA test.\n",
    "\n",
    "Our approach to analyzing the data is structured as follows:\n",
    "\n",
    "1. **One-Way ANOVA:** We will perform one-way ANOVA to assess whether there are significant differences in mean reaction times between the three brainwave groups (theta, alpha, and beta). This will help us understand if the type of brainwave activity influences reaction time performance.\n",
    "2. **F-test:** Following the one-way ANOVA, we will use the F-test to evaluate the hypothesis that the variation in reaction times between the groups is greater than the variation within each group. This test will give us insight into the relative size of the between-group differences compared to the within-group variability.\n",
    "\n",
    "By completing this exercise, we will gain deeper understanding of how to conduct a one-way ANOVA, interpret the results of the F-test, and evaluate the p-value to make an informed decision about whether to reject the null hypothesis. This analysis will allow us to determine if there are significant differences in mean reaction times across the three brainwave frequency bands, shedding light on the potential influence of brainwave activity on cognitive performance.\n"
   ],
   "metadata": {
    "collapsed": false
   }
  },
  {
   "cell_type": "code",
   "execution_count": 2,
   "outputs": [],
   "source": [
    "import pandas as pd\n",
    "import statsmodels.api as sm\n",
    "from statsmodels.formula.api import ols"
   ],
   "metadata": {
    "collapsed": false,
    "ExecuteTime": {
     "start_time": "2024-11-19T12:45:08.016188Z",
     "end_time": "2024-11-19T12:45:08.541376Z"
    }
   }
  },
  {
   "cell_type": "markdown",
   "source": [
    "We are using pandas to create the dataset based on the problem statement."
   ],
   "metadata": {
    "collapsed": false
   }
  },
  {
   "cell_type": "code",
   "execution_count": 6,
   "outputs": [],
   "source": [
    "# Data setup\n",
    "data = {\n",
    "    \"ReactionTime\": [250, 245, 260, 255, 250, 230, 235, 220, 240, 225, 210, 215, 205, 220, 215],\n",
    "    \"Group\": (\n",
    "        [\"Theta\"] * 5\n",
    "        + [\"Alpha\"] * 5\n",
    "        + [\"Beta\"] * 5\n",
    "    ),\n",
    "}\n",
    "\n",
    "# Convert to DataFrame\n",
    "df = pd.DataFrame(data)"
   ],
   "metadata": {
    "collapsed": false,
    "ExecuteTime": {
     "start_time": "2024-11-19T12:45:38.680984Z",
     "end_time": "2024-11-19T12:45:38.703470Z"
    }
   }
  },
  {
   "cell_type": "markdown",
   "source": [
    "## Perform ANOVA"
   ],
   "metadata": {
    "collapsed": false
   }
  },
  {
   "cell_type": "code",
   "execution_count": 7,
   "outputs": [],
   "source": [
    "# Using the formula API: Response ~ C(Factor)\n",
    "model = ols(\"ReactionTime ~ C(Group)\", data=df).fit()\n",
    "anova_table = sm.stats.anova_lm(model, typ=2)"
   ],
   "metadata": {
    "collapsed": false,
    "ExecuteTime": {
     "start_time": "2024-11-19T12:45:40.536022Z",
     "end_time": "2024-11-19T12:45:40.551634Z"
    }
   }
  },
  {
   "cell_type": "markdown",
   "source": [
    "\n",
    "Display the ANOVA table"
   ],
   "metadata": {
    "collapsed": false
   }
  },
  {
   "cell_type": "code",
   "execution_count": 8,
   "outputs": [
    {
     "name": "stdout",
     "output_type": "stream",
     "text": [
      "ANOVA Table:\n",
      "               sum_sq    df          F    PR(>F)\n",
      "C(Group)  3823.333333   2.0  44.980392  0.000003\n",
      "Residual   510.000000  12.0        NaN       NaN\n"
     ]
    }
   ],
   "source": [
    "# Display the ANOVA table\n",
    "print(\"ANOVA Table:\")\n",
    "print(anova_table)"
   ],
   "metadata": {
    "collapsed": false,
    "ExecuteTime": {
     "start_time": "2024-11-19T12:45:41.874564Z",
     "end_time": "2024-11-19T12:45:41.880326Z"
    }
   }
  },
  {
   "cell_type": "markdown",
   "source": [
    "### ANOVA table explanation\n",
    "\n",
    "1. sum_sq: Sum of Squares (SS) for each group (Between Groups) and residuals (Within Groups).\n",
    "2. df: Degrees of Freedom for each source $df_{1} = K - 1$ (in this example,  K=3), $df_{2} = N - K$ (in this example, N=15).\n",
    "3. F: F-statistic for testing group differences.\n",
    "4. PR(>F): p-value for the F-statistic."
   ],
   "metadata": {
    "collapsed": false
   }
  },
  {
   "cell_type": "markdown",
   "source": [
    "## Interpret the results"
   ],
   "metadata": {
    "collapsed": false
   }
  },
  {
   "cell_type": "code",
   "execution_count": 11,
   "outputs": [
    {
     "name": "stdout",
     "output_type": "stream",
     "text": [
      "\n",
      "Results:\n",
      "F-statistic: 44.98\n",
      "p-value: 0.00000266\n"
     ]
    }
   ],
   "source": [
    "f_stat = anova_table[\"F\"].iloc[0]\n",
    "p_value = anova_table[\"PR(>F)\"].iloc[0]\n",
    "\n",
    "print(\"\\nResults:\")\n",
    "print(f\"F-statistic: {f_stat:.2f}\")\n",
    "print(f\"p-value: {p_value:.8f}\")"
   ],
   "metadata": {
    "collapsed": false,
    "ExecuteTime": {
     "start_time": "2024-11-19T12:54:31.508013Z",
     "end_time": "2024-11-19T12:54:31.524616Z"
    }
   }
  },
  {
   "cell_type": "markdown",
   "source": [
    "The F-statistic shows the ratio of variance explained by the group differences to the unexplained variance, while the p-value indicates if the group differences are statistically significant (p < 0.05)."
   ],
   "metadata": {
    "collapsed": false
   }
  }
 ],
 "metadata": {
  "kernelspec": {
   "display_name": "Python 3",
   "language": "python",
   "name": "python3"
  },
  "language_info": {
   "codemirror_mode": {
    "name": "ipython",
    "version": 2
   },
   "file_extension": ".py",
   "mimetype": "text/x-python",
   "name": "python",
   "nbconvert_exporter": "python",
   "pygments_lexer": "ipython2",
   "version": "2.7.6"
  }
 },
 "nbformat": 4,
 "nbformat_minor": 0
}
