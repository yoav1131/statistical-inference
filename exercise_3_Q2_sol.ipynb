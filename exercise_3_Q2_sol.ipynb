{
 "cells": [
  {
   "cell_type": "markdown",
   "source": [
    "# Question 2 Solution: Predicting Cognitive Performance from EEG Data\n",
    "\n",
    "In this exercise, we will investigate the relationship between brainwave band dominance and reaction times.\n",
    "The dataset consists of reaction time measurements taken across three different brainwave frequency bands: **theta** which represents the power in the theta frequency band (4-8 Hz), **alpha**  the power in the alpha band (8-12 Hz), and **beta** the power in the beta band (12-30 Hz).\n",
    "Our goal is to determine whether the mean reaction times differ significantly across these three brainwave frequency bands using statistical methods, specifically the one-way ANOVA test.\n",
    "\n",
    "Our approach to analyzing the data is structured as follows:\n",
    "\n",
    "1. **One-Way ANOVA:** We will perform one-way ANOVA to assess whether there are significant differences in mean reaction times between the three brainwave groups (theta, alpha, and beta). This will help us understand if the type of brainwave activity influences reaction time performance.\n",
    "2. **F-test:** Following the one-way ANOVA, we will use the F-test to evaluate the hypothesis that the variation in reaction times between the groups is greater than the variation within each group. This test will give us insight into the relative size of the between-group differences compared to the within-group variability.\n",
    "\n",
    "By completing this exercise, we will gain deeper understanding of how to conduct a one-way ANOVA, interpret the results of the F-test, and evaluate the p-value to make an informed decision about whether to reject the null hypothesis. This analysis will allow us to determine if there are significant differences in mean reaction times across the three brainwave frequency bands, shedding light on the potential influence of brainwave activity on cognitive performance.\n"
   ],
   "metadata": {
    "collapsed": false
   }
  },
  {
   "cell_type": "code",
   "execution_count": 12,
   "outputs": [],
   "source": [
    "import pandas as pd\n",
    "import statsmodels.api as sm\n",
    "from statsmodels.formula.api import ols"
   ],
   "metadata": {
    "collapsed": false,
    "ExecuteTime": {
     "start_time": "2024-11-20T07:05:08.495605Z",
     "end_time": "2024-11-20T07:05:08.531883Z"
    }
   }
  },
  {
   "cell_type": "markdown",
   "source": [
    "We are using pandas to create the dataset based on the problem statement."
   ],
   "metadata": {
    "collapsed": false
   }
  },
  {
   "cell_type": "code",
   "execution_count": 13,
   "outputs": [],
   "source": [
    "# Data setup\n",
    "data = {\n",
    "    \"ReactionTime\": [250, 245, 260, 255, 250, 230, 235, 220, 240, 225, 210, 215, 205, 220, 215],\n",
    "    \"Group\": (\n",
    "        [\"Theta\"] * 5\n",
    "        + [\"Alpha\"] * 5\n",
    "        + [\"Beta\"] * 5\n",
    "    ),\n",
    "}\n",
    "\n",
    "# Convert to DataFrame\n",
    "df = pd.DataFrame(data)"
   ],
   "metadata": {
    "collapsed": false,
    "ExecuteTime": {
     "start_time": "2024-11-20T07:05:10.286139Z",
     "end_time": "2024-11-20T07:05:10.416660Z"
    }
   }
  },
  {
   "cell_type": "code",
   "execution_count": 14,
   "outputs": [
    {
     "data": {
      "text/plain": "    ReactionTime  Group\n0            250  Theta\n1            245  Theta\n2            260  Theta\n3            255  Theta\n4            250  Theta\n5            230  Alpha\n6            235  Alpha\n7            220  Alpha\n8            240  Alpha\n9            225  Alpha\n10           210   Beta\n11           215   Beta\n12           205   Beta\n13           220   Beta\n14           215   Beta",
      "text/html": "<div>\n<style scoped>\n    .dataframe tbody tr th:only-of-type {\n        vertical-align: middle;\n    }\n\n    .dataframe tbody tr th {\n        vertical-align: top;\n    }\n\n    .dataframe thead th {\n        text-align: right;\n    }\n</style>\n<table border=\"1\" class=\"dataframe\">\n  <thead>\n    <tr style=\"text-align: right;\">\n      <th></th>\n      <th>ReactionTime</th>\n      <th>Group</th>\n    </tr>\n  </thead>\n  <tbody>\n    <tr>\n      <th>0</th>\n      <td>250</td>\n      <td>Theta</td>\n    </tr>\n    <tr>\n      <th>1</th>\n      <td>245</td>\n      <td>Theta</td>\n    </tr>\n    <tr>\n      <th>2</th>\n      <td>260</td>\n      <td>Theta</td>\n    </tr>\n    <tr>\n      <th>3</th>\n      <td>255</td>\n      <td>Theta</td>\n    </tr>\n    <tr>\n      <th>4</th>\n      <td>250</td>\n      <td>Theta</td>\n    </tr>\n    <tr>\n      <th>5</th>\n      <td>230</td>\n      <td>Alpha</td>\n    </tr>\n    <tr>\n      <th>6</th>\n      <td>235</td>\n      <td>Alpha</td>\n    </tr>\n    <tr>\n      <th>7</th>\n      <td>220</td>\n      <td>Alpha</td>\n    </tr>\n    <tr>\n      <th>8</th>\n      <td>240</td>\n      <td>Alpha</td>\n    </tr>\n    <tr>\n      <th>9</th>\n      <td>225</td>\n      <td>Alpha</td>\n    </tr>\n    <tr>\n      <th>10</th>\n      <td>210</td>\n      <td>Beta</td>\n    </tr>\n    <tr>\n      <th>11</th>\n      <td>215</td>\n      <td>Beta</td>\n    </tr>\n    <tr>\n      <th>12</th>\n      <td>205</td>\n      <td>Beta</td>\n    </tr>\n    <tr>\n      <th>13</th>\n      <td>220</td>\n      <td>Beta</td>\n    </tr>\n    <tr>\n      <th>14</th>\n      <td>215</td>\n      <td>Beta</td>\n    </tr>\n  </tbody>\n</table>\n</div>"
     },
     "execution_count": 14,
     "metadata": {},
     "output_type": "execute_result"
    }
   ],
   "source": [
    "df"
   ],
   "metadata": {
    "collapsed": false,
    "ExecuteTime": {
     "start_time": "2024-11-20T07:05:13.297355Z",
     "end_time": "2024-11-20T07:05:13.440349Z"
    }
   }
  },
  {
   "cell_type": "markdown",
   "source": [
    "## Perform ANOVA"
   ],
   "metadata": {
    "collapsed": false
   }
  },
  {
   "cell_type": "code",
   "execution_count": 7,
   "outputs": [],
   "source": [
    "# Using the formula API: Response ~ C(Factor)\n",
    "model = ols(\"ReactionTime ~ C(Group)\", data=df).fit()\n",
    "anova_table = sm.stats.anova_lm(model, typ=2)"
   ],
   "metadata": {
    "collapsed": false,
    "ExecuteTime": {
     "start_time": "2024-11-19T12:45:40.536022Z",
     "end_time": "2024-11-19T12:45:40.551634Z"
    }
   }
  },
  {
   "cell_type": "markdown",
   "source": [
    "\n",
    "Display the ANOVA table"
   ],
   "metadata": {
    "collapsed": false
   }
  },
  {
   "cell_type": "code",
   "execution_count": 8,
   "outputs": [
    {
     "name": "stdout",
     "output_type": "stream",
     "text": [
      "ANOVA Table:\n",
      "               sum_sq    df          F    PR(>F)\n",
      "C(Group)  3823.333333   2.0  44.980392  0.000003\n",
      "Residual   510.000000  12.0        NaN       NaN\n"
     ]
    }
   ],
   "source": [
    "# Display the ANOVA table\n",
    "print(\"ANOVA Table:\")\n",
    "print(anova_table)"
   ],
   "metadata": {
    "collapsed": false,
    "ExecuteTime": {
     "start_time": "2024-11-19T12:45:41.874564Z",
     "end_time": "2024-11-19T12:45:41.880326Z"
    }
   }
  },
  {
   "cell_type": "markdown",
   "source": [
    "### ANOVA table explanation\n",
    "\n",
    "1. sum_sq: Sum of Squares (SS) for each group (Between Groups) and residuals (Within Groups).\n",
    "2. df: Degrees of Freedom for each source $df_{1} = K - 1$ (in this example,  K=3), $df_{2} = N - K$ (in this example, N=15).\n",
    "3. F: F-statistic for testing group differences.\n",
    "4. PR(>F): p-value for the F-statistic.\n",
    "\n",
    "You can find more details in the following link: [Statsmodels Example Formulas Documentation](https://www.statsmodels.org/dev/example_formulas.html)\n"
   ],
   "metadata": {
    "collapsed": false
   }
  },
  {
   "cell_type": "markdown",
   "source": [
    "## Interpret the results"
   ],
   "metadata": {
    "collapsed": false
   }
  },
  {
   "cell_type": "code",
   "execution_count": 11,
   "outputs": [
    {
     "name": "stdout",
     "output_type": "stream",
     "text": [
      "\n",
      "Results:\n",
      "F-statistic: 44.98\n",
      "p-value: 0.00000266\n"
     ]
    }
   ],
   "source": [
    "f_stat = anova_table[\"F\"].iloc[0]\n",
    "p_value = anova_table[\"PR(>F)\"].iloc[0]\n",
    "\n",
    "print(\"\\nResults:\")\n",
    "print(f\"F-statistic: {f_stat:.2f}\")\n",
    "print(f\"p-value: {p_value:.8f}\")"
   ],
   "metadata": {
    "collapsed": false,
    "ExecuteTime": {
     "start_time": "2024-11-19T12:54:31.508013Z",
     "end_time": "2024-11-19T12:54:31.524616Z"
    }
   }
  },
  {
   "cell_type": "markdown",
   "source": [
    "The F-statistic shows the ratio of variance explained by the group differences to the unexplained variance, while the p-value indicates if the group differences are statistically significant (p < 0.05)."
   ],
   "metadata": {
    "collapsed": false
   }
  }
 ],
 "metadata": {
  "kernelspec": {
   "display_name": "Python 3",
   "language": "python",
   "name": "python3"
  },
  "language_info": {
   "codemirror_mode": {
    "name": "ipython",
    "version": 2
   },
   "file_extension": ".py",
   "mimetype": "text/x-python",
   "name": "python",
   "nbconvert_exporter": "python",
   "pygments_lexer": "ipython2",
   "version": "2.7.6"
  }
 },
 "nbformat": 4,
 "nbformat_minor": 0
}
